{
 "cells": [
  {
   "cell_type": "code",
   "execution_count": 51,
   "id": "872bb1ce",
   "metadata": {},
   "outputs": [
    {
     "name": "stdout",
     "output_type": "stream",
     "text": [
      "(150, 4) (150,)\n",
      "training set: (120, 4), (120,)\n",
      "test set: (30, 4), (30,)\n"
     ]
    }
   ],
   "source": [
    "# Dan Blanchette\n",
    "# KNN Practice\n",
    "\n",
    "import numpy as np\n",
    "from sklearn import datasets as ds # only imports some modules from sklearn. good because whole module may be too large\n",
    "from sklearn.model_selection import train_test_split # split dataset into train and test sets\n",
    "\n",
    "# data preparation\n",
    "iris = ds.load_iris() #loading dataset on iris stuff\n",
    "X = iris.data # feature vectors ie data\n",
    "y = iris.target # classification of feature vectors in number format\n",
    "\n",
    "print(X.shape, y.shape) # will give size of each vector\n",
    "X_train, X_test, y_train, y_test = train_test_split(X,y, test_size=0.2) # splits data set into a training set and test set\n",
    "                                                                        # with corresponding target vectors\n",
    "\n",
    "print(f\"training set: {X_train.shape}, {y_train.shape}\")\n",
    "print(f\"test set: {X_test.shape}, {y_test.shape}\")"
   ]
  },
  {
   "cell_type": "code",
   "execution_count": 52,
   "id": "6a5d8629",
   "metadata": {},
   "outputs": [],
   "source": [
    "# 2. Model training\n",
    "# KNN is an instance-based algorithm, and \n",
    "# it does not have the actual training\n"
   ]
  },
  {
   "cell_type": "code",
   "execution_count": 53,
   "id": "09d8c573",
   "metadata": {},
   "outputs": [],
   "source": [
    "# 3. Prediction and evaluation\n",
    "# evaluation metric: error rate : % of data samples missclassified\n",
    "def predict(X_input):\n",
    "    ''' X_in: new datta samples. n*4'''\n",
    "    \n",
    "    for x in X_in:\n",
    "        k_inx = findKN\n",
    "\n",
    "# prediction: 1) find the K nearest neighbors; 2)voting to predict"
   ]
  },
  {
   "cell_type": "code",
   "execution_count": 71,
   "id": "da045754",
   "metadata": {},
   "outputs": [
    {
     "name": "stdout",
     "output_type": "stream",
     "text": [
      "[[31]\n",
      " [83]\n",
      " [75]\n",
      " [62]\n",
      " [27]] \n",
      "\n",
      "[[31]\n",
      " [83]] \n",
      "\n"
     ]
    }
   ],
   "source": [
    "def findKnNbs(x_star, X_train, K=5):\n",
    "    \"\"\"find K nearest neighbors for sample in the training set\n",
    "\n",
    "    :param x_star: new data sample. Shape 1 by 4\n",
    "    :param X_train: _description_\n",
    "\n",
    "    return:\n",
    "        K nearest neighbors' indeces\n",
    "    \"\"\"\n",
    "    # calculate euclidean distance\n",
    "    n = X_train.shape[0]\n",
    "    dist = np.zeros((n,1)) # create numpy array of size n and init all val with 0\n",
    "    \n",
    "    index = 0\n",
    "    for x in X_train:\n",
    "        # d = ((x_star-x)*(x_star-x)).sum() # element wise multiplication\n",
    "        d = np.sqrt(np.sum((x_star-x)*(x_star-x)))\n",
    "        # d = np.sqrt(np.sum((x_star-x) ** 2))\n",
    "        dist[index] = d\n",
    "        index += 1\n",
    "    \n",
    "    # find k nearest neighbors using a sorting algo\n",
    "    # numpy has sort!\n",
    "    # print(dist)\n",
    "    ind = np.argsort(dist, axis=0)\n",
    "    # print(ind)\n",
    "    # print(ind[:K]) # this slices up to the Kth element\n",
    "    return ind[:K]\n",
    "\n",
    "k_inx = findKnNbs(X_test[0], X_train)\n",
    "print(k_inx, \"\\n\")\n",
    "\n",
    "def findKnNbs2(x_star, X_train, K=7):\n",
    "    \"\"\"find K nearest neighbors for sample in the training set\n",
    "\n",
    "    :param x_star: new data sample. Shape 1 by 4\n",
    "    :param X_train: _description_\n",
    "\n",
    "    return:\n",
    "        K nearest neighbors' indeces\n",
    "    \"\"\"\n",
    "    # calculate euclidean distance\n",
    "    n = X_train.shape[0]\n",
    "    dist = np.zeros((n,1)) # create numpy array of size n and init all val with 0\n",
    "    \n",
    "    index = 0\n",
    "    for x in X_train:\n",
    "        # d = ((x_star-x)*(x_star-x)).sum() # element wise multiplication\n",
    "        d = np.sqrt(np.sum((x_star-x)*(x_star-x)))\n",
    "        # d = np.sqrt(np.sum((x_star-x) ** 2))\n",
    "        dist[index] = d\n",
    "        index += 1\n",
    "    \n",
    "    # find k nearest neighbors using a sorting algo\n",
    "    # numpy has sort!\n",
    "    # print(dist)\n",
    "    ind = np.argsort(dist, axis=0)\n",
    "    # print(ind)\n",
    "    # print(ind[:K]) # this slices up to the Kth element\n",
    "    return ind[:K]\n",
    "\n",
    "k_inx = findKnNbs2(X_test[0], X_train)\n",
    "print(k_inx, \"\\n\")\n",
    "    "
   ]
  },
  {
   "cell_type": "code",
   "execution_count": 55,
   "id": "7c283fc4",
   "metadata": {},
   "outputs": [
    {
     "name": "stdout",
     "output_type": "stream",
     "text": [
      "[6.7 3.1 4.7 1.5]\n",
      "[6.2 3.4 5.4 2.3]\n"
     ]
    },
    {
     "data": {
      "text/plain": [
       "1.212435565298214"
      ]
     },
     "execution_count": 55,
     "metadata": {},
     "output_type": "execute_result"
    }
   ],
   "source": [
    "# how to find euclidean distance\n",
    "\"\"\"QUESTION\n",
    "how does this translate to our samples? we're subtracting flower width, adding it to flower petal height, etc\n",
    "\n",
    "is this how we should graph it then also?\n",
    "\"\"\"\n",
    "x_star = X_test[0]\n",
    "print(x_star)\n",
    "\n",
    "x = X_train[0]\n",
    "print(x)\n",
    "\n",
    "np.sqrt(np.sum((x_star - x) ** 2))"
   ]
  },
  {
   "cell_type": "code",
   "execution_count": 76,
   "id": "6324a4f2",
   "metadata": {},
   "outputs": [
    {
     "name": "stdout",
     "output_type": "stream",
     "text": [
      "0.03333333333333333\n",
      "\n",
      " test with K=2 Error:0.06666666666666667\n"
     ]
    }
   ],
   "source": [
    "# afterclass practice\n",
    "#1. how do we calculate the predictions for all test data samples\n",
    "\n",
    "test_pred = np.zeros(X_test.shape[0])\n",
    "index = 0\n",
    "for i in X_test:\n",
    "    ind = findKnNbs(i, X_train)\n",
    "\n",
    "    i_labels = y_train[ind]\n",
    "    counts = np.bincount(i_labels.reshape((5,)))\n",
    "    y_pred = np.argmax(counts)\n",
    "    test_pred[index] = y_pred\n",
    "\n",
    "    index += 1\n",
    "\n",
    "# 2. calculate the error rate on the test set\n",
    "\n",
    "test_err = (test_pred != y_test).sum()/y_test.shape[0]\n",
    "print(test_err)\n",
    "# try to use differnt K\n",
    "\n",
    "\n",
    "test_pred2 = np.zeros(X_test.shape[0])\n",
    "index2 = 0\n",
    "for i in X_test:\n",
    "    ind2 = findKnNbs2(i, X_train)\n",
    "\n",
    "    i_labels2 = y_train[ind2]\n",
    "    counts2 = np.bincount(i_labels2.reshape((2,)))\n",
    "    y_pred2 = np.argmax(counts2)\n",
    "    test_pred[index2] = y_pred2\n",
    "\n",
    "    index2 += 1\n",
    "\n",
    "# 2. calculate the error rate on the test set\n",
    "\n",
    "test_err2 = (test_pred != y_test).sum()/y_test.shape[0]\n",
    "print(f'\\n test with K=2 Error:{test_err2}')"
   ]
  },
  {
   "cell_type": "code",
   "execution_count": 26,
   "id": "9cb70cd6",
   "metadata": {},
   "outputs": [],
   "source": [
    "#4. model persistance (means save model for future use)\n",
    "\n"
   ]
  },
  {
   "cell_type": "code",
   "execution_count": null,
   "id": "532b64f6",
   "metadata": {},
   "outputs": [],
   "source": []
  },
  {
   "cell_type": "code",
   "execution_count": null,
   "id": "d1e7a995",
   "metadata": {},
   "outputs": [],
   "source": []
  },
  {
   "cell_type": "code",
   "execution_count": null,
   "id": "1095ccd6",
   "metadata": {},
   "outputs": [],
   "source": []
  }
 ],
 "metadata": {
  "kernelspec": {
   "display_name": "Python 3 (ipykernel)",
   "language": "python",
   "name": "python3"
  },
  "language_info": {
   "codemirror_mode": {
    "name": "ipython",
    "version": 3
   },
   "file_extension": ".py",
   "mimetype": "text/x-python",
   "name": "python",
   "nbconvert_exporter": "python",
   "pygments_lexer": "ipython3",
   "version": "3.9.13"
  }
 },
 "nbformat": 4,
 "nbformat_minor": 5
}
