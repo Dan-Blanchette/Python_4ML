{
  "nbformat": 4,
  "nbformat_minor": 0,
  "metadata": {
    "colab": {
      "provenance": [],
      "authorship_tag": "ABX9TyOpxac+6r/GFKR13J0p4Ydd",
      "include_colab_link": true
    },
    "kernelspec": {
      "name": "python3",
      "display_name": "Python 3"
    },
    "language_info": {
      "name": "python"
    }
  },
  "cells": [
    {
      "cell_type": "markdown",
      "metadata": {
        "id": "view-in-github",
        "colab_type": "text"
      },
      "source": [
        "<a href=\"https://colab.research.google.com/github/Dan-Blanchette/Python_4ML/blob/main/Final_Project/DBSCAN/DBSCAN_Image_Segmentation.ipynb\" target=\"_parent\"><img src=\"https://colab.research.google.com/assets/colab-badge.svg\" alt=\"Open In Colab\"/></a>"
      ]
    },
    {
      "cell_type": "code",
      "execution_count": null,
      "metadata": {
        "id": "CgiUhyxI2wDQ"
      },
      "outputs": [],
      "source": [
        "\"\"\"\n",
        "@author Dan Blanchette\n",
        "@date May 9th, 2023\n",
        "\n",
        "@description: This program will use DBSCAN to implement image segmentation\n",
        "\"\"\"\n",
        "\n",
        "from sklearn.cluster import DBSCAN\n",
        "\n",
        "from matplotlib.image import imread\n",
        "\n",
        "import numpy as np\n",
        "\n",
        "import matplotlib.pyplot as plt\n",
        "\n"
      ]
    }
  ]
}