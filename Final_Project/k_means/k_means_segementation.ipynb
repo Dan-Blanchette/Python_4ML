{
  "nbformat": 4,
  "nbformat_minor": 0,
  "metadata": {
    "colab": {
      "provenance": [],
      "authorship_tag": "ABX9TyP8dgLbE6re7cjsbcJKYzIi",
      "include_colab_link": true
    },
    "kernelspec": {
      "name": "python3",
      "display_name": "Python 3"
    },
    "language_info": {
      "name": "python"
    }
  },
  "cells": [
    {
      "cell_type": "markdown",
      "metadata": {
        "id": "view-in-github",
        "colab_type": "text"
      },
      "source": [
        "<a href=\"https://colab.research.google.com/github/Dan-Blanchette/Python_4ML/blob/main/Final_Project/k_means/k_means_segementation.ipynb\" target=\"_parent\"><img src=\"https://colab.research.google.com/assets/colab-badge.svg\" alt=\"Open In Colab\"/></a>"
      ]
    },
    {
      "cell_type": "code",
      "execution_count": 3,
      "metadata": {
        "id": "Phwy_PIGxIBE",
        "colab": {
          "base_uri": "https://localhost:8080/",
          "height": 263
        },
        "outputId": "dede0bc8-2671-4e90-ac6a-f0ac0549ffa9"
      },
      "outputs": [
        {
          "output_type": "error",
          "ename": "AttributeError",
          "evalue": "ignored",
          "traceback": [
            "\u001b[0;31m---------------------------------------------------------------------------\u001b[0m",
            "\u001b[0;31mAttributeError\u001b[0m                            Traceback (most recent call last)",
            "\u001b[0;32m<ipython-input-3-9b50dd3c23ac>\u001b[0m in \u001b[0;36m<cell line: 19>\u001b[0;34m()\u001b[0m\n\u001b[1;32m     17\u001b[0m \u001b[0;34m\u001b[0m\u001b[0m\n\u001b[1;32m     18\u001b[0m \u001b[0;31m# reshape image to help implement k-means algorithm\u001b[0m\u001b[0;34m\u001b[0m\u001b[0;34m\u001b[0m\u001b[0m\n\u001b[0;32m---> 19\u001b[0;31m \u001b[0mimg2\u001b[0m \u001b[0;34m=\u001b[0m \u001b[0mimg\u001b[0m\u001b[0;34m.\u001b[0m\u001b[0mreshape\u001b[0m\u001b[0;34m(\u001b[0m\u001b[0;34m(\u001b[0m\u001b[0;34m-\u001b[0m\u001b[0;36m1\u001b[0m\u001b[0;34m,\u001b[0m\u001b[0;36m3\u001b[0m\u001b[0;34m)\u001b[0m\u001b[0;34m)\u001b[0m\u001b[0;34m\u001b[0m\u001b[0;34m\u001b[0m\u001b[0m\n\u001b[0m\u001b[1;32m     20\u001b[0m \u001b[0;34m\u001b[0m\u001b[0m\n\u001b[1;32m     21\u001b[0m \u001b[0;31m# convert image to float32 to apply cv2 k-means\u001b[0m\u001b[0;34m\u001b[0m\u001b[0;34m\u001b[0m\u001b[0m\n",
            "\u001b[0;31mAttributeError\u001b[0m: 'NoneType' object has no attribute 'reshape'"
          ]
        },
        {
          "output_type": "display_data",
          "data": {
            "text/plain": [
              "<Figure size 1000x700 with 0 Axes>"
            ]
          },
          "metadata": {}
        }
      ],
      "source": [
        "'''\n",
        "@author Dan Blanchette\n",
        "@date May 3, 2023\n",
        "'''\n",
        "\n",
        "import numpy as np\n",
        "import matplotlib.pyplot as plt\n",
        "import cv2\n",
        "\n",
        "# create a figure \n",
        "fig = plt.figure(figsize=(10,7))\n",
        "\n",
        "rows = 1\n",
        "cols = 2\n",
        "\n",
        "img = cv2.imread('1.png')\n",
        "\n",
        "# reshape image to help implement k-means algorithm\n",
        "img2 = img.reshape((-1,3))\n",
        "\n",
        "# convert image to float32 to apply cv2 k-means\n",
        "img2 = np.float32(img2)\n",
        "\n",
        "# define number of cluster and apply k-means\n",
        "# max iterations is 10 and epsilon = 1.0\n",
        "criteria = (cv2.TERM_CRITERIA_EPS + cv2.TERM_CRITERIA_MAX_ITER, 10, 1.0)\n",
        "\n",
        "# Clusters\n",
        "k = 3\n",
        "\n",
        "attempts = 10\n",
        "\n",
        "# returns compactness of cluster\n",
        "# returns labels\n",
        "# center of the cluster (centroid)\n",
        "# Can use K-means PP_CENTERS OR RANDOM_CENTERS\n",
        "ret, label, center = cv2.kmeans(img2, k, None, criteria, 10, cv2.KMEANS_PP_CENTERS)\n",
        "\n",
        "# center of each cluster\n",
        "center = np.uint8(center)\n",
        "\n",
        "res = center[label.flatten()]\n",
        "# conver the dimensions back to image\n",
        "res2 = res.reshape((img.shape))\n",
        "\n",
        "cv2.imwrite('1segemented.png',res2)\n",
        "\n",
        "seg = cv2.imread('1segemented.png')\n",
        "\n",
        "fig.add_subplot(rows, cols, 1)\n",
        "\n",
        "plt.imshow(img)\n",
        "# plt.axis('off')\n",
        "plt.title(\"Original\")\n",
        "\n",
        "fig.add_subplot(rows, cols, 2)\n",
        "plt.imshow(seg)\n",
        "plt.title('K-means: k=5')\n"
      ]
    }
  ]
}