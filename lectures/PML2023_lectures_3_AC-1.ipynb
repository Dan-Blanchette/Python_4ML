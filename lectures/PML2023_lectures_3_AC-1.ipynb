{
 "cells": [
  {
   "cell_type": "markdown",
   "metadata": {},
   "source": [
    "# Lectures 4: Statements\n",
    "\n",
    "We have learned data types and stuctures to represent data in Python. In this lecture, we are going to learn *statements* and combine them to construct *procedures* to solve complicated tasks.\n",
    "\n",
    "## Agenda\n",
    "   - [Statements introduction](#section1)\n",
    "   \n",
    "   - [if test](#section2)\n",
    "   \n",
    "   - [while loop](#section31)\n",
    "      \n",
    "   - [for loop](#section32)\n",
    "      \n",
    "   - [An example and practice](#section4)"
   ]
  },
  {
   "cell_type": "markdown",
   "metadata": {},
   "source": [
    "### Statements Introduction<a id = \"section1\"/>\n",
    "\n",
    "> Statements are the things we write to tell Python what our programs should do.\n",
    "\n",
    "The role of Python statement (conceptual hierarchy):\n",
    "    1. Programs are composed of modules(files).\n",
    "    2. Modules contains statements.\n",
    "    3. *Statements* contain expression\n",
    "    4. Expression create and process objects.\n",
    "\n",
    "Each statement in Python has its own specific purpose and its own specific syntax.\n",
    "    - import, from: module and attribute access\n",
    "    - if/elif/else: selecting actions\n",
    "    - for, while, break, continue: loops\n",
    "    - def, return, class, yield: define functions and classes\n",
    "    - global, nonlocal: namespaces and scopes\n",
    "    - try/except: catching exceptions/errors\n",
    "    - with/as: context managers\n",
    "\n"
   ]
  },
  {
   "cell_type": "markdown",
   "metadata": {},
   "source": [
    "#### Basic Python statement Syntax\n",
    "```c++\n",
    "// C++ example of the 'if' statement\n",
    "if(a > b){\n",
    "    x = 1;\n",
    "    y = 2;\n",
    "}\n",
    "```\n",
    "\n",
    "```python\n",
    "# python example of the 'if' statement\n",
    "if a > b:\n",
    "    x = 1\n",
    "    y = 2\n",
    "```\n",
    "\n",
    "What Python adds\n",
    "    - All Python compound statements' header line terminated in a colon character(:). *Forgeting this is the most common coding mistake in beginners.* \n",
    "    \n",
    "What Python removes\n",
    "    - Parentheses are optional.\n",
    "    - No need the semicolon(;) to terminate a line.\n",
    "    - No need {} to define the begin and end of a block.End of indentation is end of block."
   ]
  },
  {
   "cell_type": "markdown",
   "metadata": {},
   "source": [
    "#### Assignments statements\n",
    "> We use assignment statements to assign objects to names, e.g., a = 10. In the basic form, we write the target on the left of an equals sign, and the object on the right.\n",
    "\n",
    "Assignments create references/new variables and will not copy data.\n",
    "```python\n",
    "    L = [1, 2, 3]\n",
    "    L1 = L\n",
    "```\n"
   ]
  },
  {
   "cell_type": "code",
   "execution_count": null,
   "metadata": {},
   "outputs": [],
   "source": [
    "#baisc form\n",
    "a = 1\n",
    "b = 2\n",
    "c = 3"
   ]
  },
  {
   "cell_type": "code",
   "execution_count": null,
   "metadata": {},
   "outputs": [],
   "source": [
    "#multi-target assignment\n",
    "a = b = c = 1"
   ]
  },
  {
   "cell_type": "code",
   "execution_count": null,
   "metadata": {},
   "outputs": [],
   "source": [
    "# augmented assignment\n",
    "a += 1"
   ]
  },
  {
   "cell_type": "markdown",
   "metadata": {},
   "source": [
    "#### Expression statements\n",
    "Expression statements are commonly used in two situations\n",
    "- call functions or class methods (without return values)\n",
    "- print values at the prompt"
   ]
  },
  {
   "cell_type": "code",
   "execution_count": null,
   "metadata": {},
   "outputs": [],
   "source": [
    "x = 'hello'\n",
    "y = 'python'\n",
    "\n",
    "print(x, y)"
   ]
  },
  {
   "cell_type": "code",
   "execution_count": null,
   "metadata": {},
   "outputs": [],
   "source": [
    "f = open('data.txt', 'w')\n",
    "print(x, y, file = f)\n",
    "f.close()"
   ]
  },
  {
   "cell_type": "markdown",
   "metadata": {},
   "source": [
    "### if Tests  <a id = \"section2\"/>\n",
    "\n",
    "In Python, `if` statements allow us to instruct the program to perform alternative actions, based on one or several tests. This provides for introducing logic in our codes, and it can be interpreted as \"if this case happens, then perform this action\".\n",
    "\n",
    "`if` is a ***compound statement,*** since it may contain other statements in its syntax. Also, the `if` statement is referred to as a ***conditional*** statement.\n",
    "\n",
    "The `if` statement takes the form an `if test`, followed by one or more optional `elif (else if) test`, and\n",
    "a final optional `else test`. Each of the tests has an associated block of nested statements, indented under a header line.\n",
    "\n",
    "The general form for `if` statements is:\n",
    "\n",
    "    if test1:\n",
    "        statements: perform action 1\n",
    "    elif test2:\n",
    "        statements: perform action 2\n",
    "    else: \n",
    "        statements: perform action 3\n",
    "        \n",
    "The above compound statement can be interpreted as: if the case in test 1 happens, perform action 1. Else, if the case in test 2 happens, perform some other action&mdash;action 2. Or else, if none of the above cases happen, perform action 3."
   ]
  },
  {
   "cell_type": "code",
   "execution_count": null,
   "metadata": {},
   "outputs": [],
   "source": [
    "# basic if\n",
    "x = 105\n",
    "\n",
    "if x > 100:\n",
    "    print(x, 'is high')"
   ]
  },
  {
   "cell_type": "code",
   "execution_count": null,
   "metadata": {},
   "outputs": [],
   "source": [
    "# if-else\n",
    "x = False\n",
    "\n",
    "if x:\n",
    "    print('This is printed when x is True!')\n",
    "else:\n",
    "    print('This is printed when x is False')"
   ]
  },
  {
   "cell_type": "markdown",
   "metadata": {},
   "source": [
    "#### Exercise 1\n",
    "\n",
    "Write an `if-else` test that for a given number x prints whether it is an even or odd number. Hint: use the modulus operator `%` (if you are not familiar with it, perform an internet search)."
   ]
  },
  {
   "cell_type": "code",
   "execution_count": 4,
   "metadata": {},
   "outputs": [
    {
     "name": "stdout",
     "output_type": "stream",
     "text": [
      "68 is medium\n"
     ]
    }
   ],
   "source": [
    "# if-elif-else\n",
    "z = 68\n",
    "    \n",
    "if z > 100:\n",
    "    print(z, 'is high')\n",
    "elif z > 50:\n",
    "    print(z, 'is medium')\n",
    "else:\n",
    "    print(z, 'is low')"
   ]
  },
  {
   "cell_type": "markdown",
   "metadata": {},
   "source": [
    "#### Exercise 2\n",
    "\n",
    "Using `if-else` and the `input()` function, create a program that asks to enter a password, and if the password is 123456 it displays 'Welcome!' and if not it displays 'Access denied!'."
   ]
  },
  {
   "cell_type": "code",
   "execution_count": 6,
   "metadata": {},
   "outputs": [
    {
     "name": "stdout",
     "output_type": "stream",
     "text": [
      "Enter a numer:123\n",
      "Access denied!\n"
     ]
    }
   ],
   "source": [
    "pwd = input('Enter a numer:')\n",
    "if pwd == '123456':\n",
    "    print('Welcome')\n",
    "else:\n",
    "    print('Access denied!')"
   ]
  },
  {
   "cell_type": "markdown",
   "metadata": {},
   "source": [
    "#### Boolean Operators to Make Complex Statements"
   ]
  },
  {
   "cell_type": "code",
   "execution_count": null,
   "metadata": {},
   "outputs": [],
   "source": [
    "age = 40\n",
    "\n",
    "if age > 65 or age < 16:\n",
    "    print(age, 'is outside the labor force')\n",
    "else:\n",
    "    print(age, 'is in the labor force')"
   ]
  },
  {
   "cell_type": "markdown",
   "metadata": {},
   "source": [
    "#### The if - else Ternary Expression\n",
    "Python also has an ***if - else ternary expression*** with the following syntax:\n",
    "\n",
    "    a if condition else b\n",
    "    \n",
    "In the above expression, first the condition is evaluated, and afterward either a or b is returned based on the Boolean value of the condition."
   ]
  },
  {
   "cell_type": "code",
   "execution_count": null,
   "metadata": {},
   "outputs": [],
   "source": [
    "num = 43\n",
    "\n",
    "if num > 100:\n",
    "    print(num, 'is high')\n",
    "else:\n",
    "    print(num, 'is low')"
   ]
  },
  {
   "cell_type": "code",
   "execution_count": null,
   "metadata": {},
   "outputs": [],
   "source": [
    "print(num, 'is high') if num > 100 else print(num, 'is low')"
   ]
  },
  {
   "cell_type": "markdown",
   "metadata": {},
   "source": [
    "### For and While Loops  <a id = \"section3\"/>\n",
    "\n",
    "Structure of a Loop\n",
    "- Many algorithms require a programming language to *carry out a sequence of statements repeatedly*. The code within the loop is called the body of the loop.\n",
    "\n",
    "Three loop categories\n",
    "1. Count-controlled loop. Reating a loop a certain number of times. **Python does not have this kind of loop.**\n",
    "```C++\n",
    "// C++ example\n",
    "for (int i = 0; i < 5; i++) {\n",
    "  cout << i << \"\\n\";\n",
    "}\n",
    "```\n",
    "2. Condition-controlled loop. A loop will be repeated until a given condition changes. \n",
    "\n",
    "```python\n",
    "# Python example\n",
    "n = 100\n",
    "i = 1\n",
    "while i < n:\n",
    "    print(i)\n",
    "```\n",
    "\n",
    "3. Collection-controlled loop. It allows looping through the elements of a \"collection\", which can be an array, list or other ordered sequence.\n",
    "\n",
    "Python Loops\n",
    ">Python supports the condition-controlled (while)loop and collection-controlled (for) loop."
   ]
  },
  {
   "cell_type": "markdown",
   "metadata": {},
   "source": [
    "### While loop <a id = \"section31\"/>\n",
    "Basic while loop. \n",
    "- Before the body of the loop is executed, the condition is evaluated. If it evaluates to False, the while loop is finished.\n",
    "\n",
    "![basic while loop](while_basic_fc.png)\n",
    "\n",
    "\n",
    "- The general syntax of a basic while loop:\n",
    "```python\n",
    "while condition:\n",
    "    statement_1\n",
    "    ...\n",
    "    statement_n\n",
    "```"
   ]
  },
  {
   "cell_type": "code",
   "execution_count": 5,
   "metadata": {},
   "outputs": [
    {
     "name": "stdout",
     "output_type": "stream",
     "text": [
      "This is the else part of the while loop, and the condition: False\n",
      "Current n is 101\n",
      "The Sum of numbers from 1 to 100 is 5050\n"
     ]
    }
   ],
   "source": [
    "#### A Small Example. \n",
    "#Calculate the sum of the numbers from 1 to 100\n",
    "\n",
    "n_start = 1\n",
    "n_end = 100\n",
    "\n",
    "n_sum = 0\n",
    "n = n_start\n",
    "while n <= n_end:\n",
    "    n_sum += n # n_sum = s_sum + n\n",
    "    n += 1\n",
    "else: # option for while: n <= n_end is False\n",
    "    print('This is the else part of the while loop, and the condition:',\n",
    "          n<=n_end)\n",
    "print('Current n is', n)    \n",
    "print('The Sum of numbers from 1 to 100 is', n_sum)"
   ]
  },
  {
   "cell_type": "markdown",
   "metadata": {},
   "source": [
    "#### Break and continue statements in loops\n",
    "- Break is used to exit a for loop or a while loop (innermost loop)\n",
    "- Continue is used to skip the current block, and continues with the next iteration of the loop. "
   ]
  },
  {
   "cell_type": "code",
   "execution_count": null,
   "metadata": {},
   "outputs": [],
   "source": [
    "# Calculate the sum of the even numbers from 1 to 100\n",
    "n_start = 1\n",
    "n_end = 100\n",
    "\n",
    "n_sum = 0\n",
    "n = n_start\n",
    "while n <= n_end:\n",
    "    if n%2 != 0: # odd numbers\n",
    "        n += 1\n",
    "        continue\n",
    "    else: # even numbers\n",
    "        n_sum += n # n_sum = s_sum + n\n",
    "        n += 1\n",
    "print('Current n is', n)    \n",
    "print('The Sum of even numbers from 1 to 100 is', n_sum)"
   ]
  },
  {
   "cell_type": "markdown",
   "metadata": {},
   "source": [
    "#### Full while loop syntax\n",
    "![full while](while_full_fc.png)\n",
    "\n",
    "The general syntax of the full while loop\n",
    "```python\n",
    "while condition:\n",
    "    statement_1\n",
    "    ...\n",
    "    statement_n\n",
    "else: # the optional else part of while statement. The eles part will not excute if the loop was terminated using break.\n",
    "    statement_1\n",
    "    ...\n",
    "    statement_n \n",
    "```"
   ]
  },
  {
   "cell_type": "markdown",
   "metadata": {},
   "source": [
    "### For loop <a id = \"section32\"/>\n",
    "\n",
    "Python use iterator-based for loop\n",
    "- The for loop iterates over items of lists, tuple, string, the kyes of dicts and other iterable data structures. In each iteration step a loop variable is set to a value in a sequence or other data collection. \n",
    "\n",
    "\n",
    "Syntax of the *for* Loop\n",
    "\n",
    "- The Python for loop starts with the keyword \"for\" followed by an arbitrary variable name, which will hold the values of the following data sequence. The *else* block will be executed only if the loop hasn't been \"broken\" by a break statement.\n",
    "\n",
    "```python\n",
    "for item in item_sequence:\n",
    "    statement 1\n",
    "    ...\n",
    "    statement n\n",
    "else:\n",
    "    other statements\n",
    "```"
   ]
  },
  {
   "cell_type": "code",
   "execution_count": null,
   "metadata": {},
   "outputs": [],
   "source": [
    "languages = [\"Java\", \"C++\", \"Perl\", \"Python\"] \n",
    "\n",
    "for lang in languages:\n",
    "    print(lang)"
   ]
  },
  {
   "cell_type": "code",
   "execution_count": null,
   "metadata": {},
   "outputs": [],
   "source": [
    "#### Use the range() function to construct count-controlled-like for loop\n",
    "languages = [\"Java\", \"C++\", \"Perl\", \"Python\"] \n",
    "\n",
    "n = len(languages)\n",
    "#list(range(n))\n",
    "for i in range(n):\n",
    "    print(i, languages[i])"
   ]
  },
  {
   "cell_type": "code",
   "execution_count": null,
   "metadata": {},
   "outputs": [],
   "source": [
    "##### For loop with both item and item index\n",
    "languages = [\"Java\", \"C++\", \"Perl\", \"Python\"] \n",
    "#a = enumerate(languages)\n",
    "for i, lang in enumerate(languages):\n",
    "    print(i, lang)"
   ]
  },
  {
   "cell_type": "code",
   "execution_count": 7,
   "metadata": {},
   "outputs": [
    {
     "ename": "NameError",
     "evalue": "name 'languages' is not defined",
     "output_type": "error",
     "traceback": [
      "\u001b[1;31m---------------------------------------------------------------------------\u001b[0m",
      "\u001b[1;31mNameError\u001b[0m                                 Traceback (most recent call last)",
      "\u001b[1;32m<ipython-input-7-d38958a43d5b>\u001b[0m in \u001b[0;36m<module>\u001b[1;34m\u001b[0m\n\u001b[1;32m----> 1\u001b[1;33m \u001b[0mlist\u001b[0m\u001b[1;33m(\u001b[0m\u001b[0menumerate\u001b[0m\u001b[1;33m(\u001b[0m\u001b[0mlanguages\u001b[0m\u001b[1;33m)\u001b[0m\u001b[1;33m)\u001b[0m\u001b[1;33m\u001b[0m\u001b[1;33m\u001b[0m\u001b[0m\n\u001b[0m",
      "\u001b[1;31mNameError\u001b[0m: name 'languages' is not defined"
     ]
    }
   ],
   "source": [
    "list(enumerate(languages))"
   ]
  },
  {
   "cell_type": "markdown",
   "metadata": {},
   "source": [
    "### A realistic example to practice compund statements <a id = \"section4\"/>\n",
    "Supose we are asked to write a Python program to calculate square root of a number input by user. The program should be able to interact with user to allow user input from keyboard, and print our the results."
   ]
  },
  {
   "cell_type": "code",
   "execution_count": null,
   "metadata": {},
   "outputs": [],
   "source": [
    "import math\n",
    "\n",
    "while True:\n",
    "    n = input('Enter a numer:')\n",
    "    if n == 'stop':\n",
    "        break\n",
    "    print(math.sqrt(int(n)))\n",
    "else:\n",
    "    print('This is the else part.')"
   ]
  },
  {
   "cell_type": "code",
   "execution_count": null,
   "metadata": {},
   "outputs": [],
   "source": [
    "import math\n",
    "\n",
    "while True:\n",
    "    n = input('Enter a numer:')\n",
    "    if n == 'stop':\n",
    "        break\n",
    "    print(math.sqrt(int(n)))"
   ]
  },
  {
   "cell_type": "markdown",
   "metadata": {},
   "source": [
    "#### Exercise \n",
    "Loop through and print out all even numbers from the numbers list \n",
    "in the same order they are received. \n",
    "    - ignore numbers less than 100; and \n",
    "    - don't print any numbers that come after 710 in the sequence.\n",
    "\n",
    "    "
   ]
  },
  {
   "cell_type": "code",
   "execution_count": 3,
   "metadata": {},
   "outputs": [
    {
     "name": "stdout",
     "output_type": "stream",
     "text": [
      "3 514\n",
      "5 648\n",
      "6 896\n",
      "7 788\n",
      "12 466\n",
      "13 246\n",
      "14 100\n",
      "16 998\n",
      "17 228\n",
      "18 976\n",
      "20 362\n",
      "22 990\n",
      "27 596\n",
      "28 632\n",
      "29 902\n",
      "34 966\n",
      "36 148\n",
      "38 938\n",
      "40 346\n",
      "43 166\n",
      "49 368\n",
      "52 324\n",
      "55 762\n",
      "57 316\n",
      "59 636\n",
      "61 968\n",
      "62 686\n",
      "63 914\n",
      "65 642\n",
      "67 472\n",
      "71 138\n",
      "72 294\n",
      "75 582\n",
      "76 546\n",
      "78 994\n"
     ]
    }
   ],
   "source": [
    "numbers = [129, 137, 543, 514, 985, 648, 896, 788, 955,2, 537, 585, 466,\n",
    "       246, 100, 285, 998, 228, 976, 355, 362, 701, 990, 165, 985, 669,\n",
    "       691, 596, 632, 902, 485, 897, 955,  15, 966, 681, 148, 925, 938,\n",
    "       789, 346, 603, 817, 166, 223, 623, 461, 849, 265, 368,  37, 479,\n",
    "       324, 741, 303, 762, 907, 316,  56, 636, 277, 968, 686, 914, 451,\n",
    "       642, 413, 472, 959, 933, 117, 138, 294, 319, 137, 582, 546, 865,\n",
    "       994,  98, 637, 710, 541, 178, 410, 911, 907, 175, 652, 761, 280,\n",
    "       607, 397, 478, 480, 224, 879, 702, 458, 962]\n",
    "\n",
    "\n",
    "for i, n in enumerate(numbers):\n",
    "    if n == 710:\n",
    "        break\n",
    "    elif n < 100:\n",
    "        continue\n",
    "    \n",
    "    if n % 2 == 0:\n",
    "        print(i, n)"
   ]
  }
 ],
 "metadata": {
  "kernelspec": {
   "display_name": "Python 3 (ipykernel)",
   "language": "python",
   "name": "python3"
  },
  "language_info": {
   "codemirror_mode": {
    "name": "ipython",
    "version": 3
   },
   "file_extension": ".py",
   "mimetype": "text/x-python",
   "name": "python",
   "nbconvert_exporter": "python",
   "pygments_lexer": "ipython3",
   "version": "3.8.8"
  }
 },
 "nbformat": 4,
 "nbformat_minor": 2
}
