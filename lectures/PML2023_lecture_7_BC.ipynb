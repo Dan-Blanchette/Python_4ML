{
 "cells": [
  {
   "cell_type": "markdown",
   "metadata": {},
   "source": [
    "# Lecture 7:  A simple machine learning algorithm\n",
    "\n",
    "## K nearest neighbors (KNN) algorithm fundamentals, implementation and evaluation\n",
    "\n",
    "### Agenda\n",
    "\n",
    "1. Main idea\n",
    "2. Implementation\n",
    "3. Parameter(K) selection and the query of nearest neighbors\n",
    "4. Disadvantages\n",
    "5. Result evaluation: confusion matrix\n",
    "6. Use KNN in sklearn"
   ]
  },
  {
   "cell_type": "markdown",
   "metadata": {},
   "source": [
    "### 1. KNN main idea\n",
    "1. A type of instance-based learning: store instances of training data rather than learn a internal model\n",
    "2. Predict the label/attribution of new data by using the **K nearest data points** in the training set\n",
    "2. **K** can be a user-defined constant (k-nearest neighbor learning), or vary based on the local density of points\n",
    "3. Standard Euclidean distance is the most common distance metric used in KNN\n",
    "\n",
    "![KNN](KNN.png)   "
   ]
  },
  {
   "cell_type": "markdown",
   "metadata": {},
   "source": [
    "## 2. Implementation\n",
    "    \n",
    "1. Data preparation\n",
    "    1. Load data: `ds.load_iris()`\n",
    "    2. Prepare the training set and test set: `train_test_split(X, y, test_size = 0.3)`\n",
    "    \n",
    "2. Model training `fit()`\n",
    "    1. No explicit training step in KNN\n",
    "    2. The training phase of KNN is to load the feature vectors and class labels of the training samples\n",
    "    \n",
    "3. Prediction and evaluation `predict()`\n",
    "    1. Find k neighbors for a data sample\n",
    "    2. vote to determine the class label\n",
    "    \n",
    "4. Model persistance `pickle.dump()` and `pickle.load()`\n",
    "    1. No explicit model trained\n",
    "    2. The persistance step is to store the training samples"
   ]
  },
  {
   "cell_type": "code",
   "execution_count": 1,
   "metadata": {
    "scrolled": true
   },
   "outputs": [
    {
     "name": "stdout",
     "output_type": "stream",
     "text": [
      "(150, 4) (150,)\n",
      "(120, 4) (120,) (30, 4) (30,)\n"
     ]
    }
   ],
   "source": [
    "import numpy as np\n",
    "from sklearn import datasets as ds\n",
    "from sklearn.model_selection import train_test_split\n",
    "\n",
    "class MyKNN:\n",
    "    '''My implementation of the KNN algorithm based on euclidean distance.\n",
    "    '''\n",
    "    \n",
    "    def __init__(self, k = 5):\n",
    "        ''' only need to initialize KNN\n",
    "        \n",
    "            input:\n",
    "                k: the number of nearest neighbors to search\n",
    "        '''\n",
    "        self.K = k\n",
    "        \n",
    "    def fit(self, X_train, y_train):\n",
    "        '''The training phase of KNN is to load the feature vectors and class labels of the training samples\n",
    "        '''\n",
    "        \n",
    "        pass\n",
    "        \n",
    "   \n",
    "    def predict(self, X):\n",
    "        ''' Find k neighbors for a data sample, and vote to determine the class label\n",
    "            \n",
    "            input:\n",
    "                X: input feature vectors \n",
    "                \n",
    "            return:\n",
    "                pred: predictions\n",
    "        '''\n",
    "        \n",
    "        n = X.shape[0]\n",
    "        pred = np.zeros(n, dtype = int)\n",
    "        \n",
    "        for i in range(n): # 0, ..., n-1\n",
    "            nns = self.findKNgbs(X[i, :]) # nns, indices of K nearest neighbors\n",
    "            labels = self.y_train[nns] # class labels\n",
    "            cnts = np.bincount(labels) # voting by counting labels in each category\n",
    "            pred[i] = np.argmax(cnts) # use the label with the max counts as the predicted label\n",
    "        \n",
    "        return pred \n",
    "\n",
    "    def findKNgbs(self, x):\n",
    "        '''find neighbors using euclidean distance. Euclidean distance between x1 and x2 is squrt((x1-x2)^2)\n",
    "            \n",
    "            input:\n",
    "                x: a single data sample(1*4)\n",
    "                \n",
    "            return:\n",
    "                the k indices for the k nearest neighbors\n",
    "        '''\n",
    "        pass\n",
    "\n",
    "    def errRate(self, real, pred, precison = 2):\n",
    "        err = 0\n",
    "        n = real.shape[0]\n",
    "        err = np.sum(real != pred)\n",
    "        return round(err/n, precison)\n",
    "\n",
    "\n",
    "#1. data preparation\n",
    "iris = ds.load_iris()\n",
    "#dir(iris)\n",
    "X = iris['data'] # feature vectors 150 x 4 (150 data samples each has 4 features)\n",
    "y = iris['target']# class labels: 0, 1 , 3\n",
    "print(X.shape, y.shape)\n",
    "X_train, X_test, y_train, y_test = train_test_split(X, y, test_size = 0.2)\n",
    "print(X_train.shape, y_train.shape, X_test.shape, y_test.shape)"
   ]
  },
  {
   "cell_type": "code",
   "execution_count": 7,
   "metadata": {},
   "outputs": [
    {
     "data": {
      "text/plain": [
       "__main__.MyKNN"
      ]
     },
     "execution_count": 7,
     "metadata": {},
     "output_type": "execute_result"
    }
   ],
   "source": [
    "# 2. model training\n",
    "knn = MyKNN(k=9)\n",
    "type(knn) # k is an object\n",
    "\n",
    "\n",
    "# 3. prediction and evaluation\n"
   ]
  },
  {
   "cell_type": "code",
   "execution_count": 4,
   "metadata": {},
   "outputs": [],
   "source": [
    "import pickle\n",
    "# using pickle.dump() to save model\n"
   ]
  },
  {
   "cell_type": "code",
   "execution_count": 5,
   "metadata": {},
   "outputs": [],
   "source": [
    "# using pickle.load() to save model\n"
   ]
  },
  {
   "cell_type": "markdown",
   "metadata": {},
   "source": [
    "## 3. Parameter(K) selection and the choice of nearest neighbors\n",
    "1. The best choice of K depends upon the data\n",
    "    1. small k make the algorithm sensitive to noise\n",
    "    2. large k reduces the effect of noise, but make boundaries between classes blurr\n",
    "    3. Search k: k = 1, 3, 5, 7, 9\n"
   ]
  },
  {
   "cell_type": "code",
   "execution_count": 6,
   "metadata": {},
   "outputs": [
    {
     "ename": "AttributeError",
     "evalue": "'MyKNN' object has no attribute 'y_train'",
     "output_type": "error",
     "traceback": [
      "\u001b[0;31m---------------------------------------------------------------------------\u001b[0m",
      "\u001b[0;31mAttributeError\u001b[0m                            Traceback (most recent call last)",
      "\u001b[0;32m/tmp/ipykernel_5819/4161104096.py\u001b[0m in \u001b[0;36m<module>\u001b[0;34m\u001b[0m\n\u001b[1;32m      4\u001b[0m \u001b[0mknn2\u001b[0m \u001b[0;34m=\u001b[0m \u001b[0mMyKNN\u001b[0m\u001b[0;34m(\u001b[0m\u001b[0;36m20\u001b[0m\u001b[0;34m)\u001b[0m\u001b[0;34m\u001b[0m\u001b[0;34m\u001b[0m\u001b[0m\n\u001b[1;32m      5\u001b[0m \u001b[0mknn2\u001b[0m\u001b[0;34m.\u001b[0m\u001b[0mfit\u001b[0m\u001b[0;34m(\u001b[0m\u001b[0mX_train\u001b[0m\u001b[0;34m,\u001b[0m \u001b[0my_train\u001b[0m\u001b[0;34m)\u001b[0m\u001b[0;34m\u001b[0m\u001b[0;34m\u001b[0m\u001b[0m\n\u001b[0;32m----> 6\u001b[0;31m \u001b[0mtrain_pred\u001b[0m \u001b[0;34m=\u001b[0m \u001b[0mknn2\u001b[0m\u001b[0;34m.\u001b[0m\u001b[0mpredict\u001b[0m\u001b[0;34m(\u001b[0m\u001b[0mX_train\u001b[0m\u001b[0;34m)\u001b[0m\u001b[0;34m\u001b[0m\u001b[0;34m\u001b[0m\u001b[0m\n\u001b[0m\u001b[1;32m      7\u001b[0m \u001b[0mprint\u001b[0m\u001b[0;34m(\u001b[0m\u001b[0;34m'Error rate on training set:{}%'\u001b[0m\u001b[0;34m.\u001b[0m\u001b[0mformat\u001b[0m\u001b[0;34m(\u001b[0m\u001b[0;36m100\u001b[0m\u001b[0;34m*\u001b[0m\u001b[0mknn2\u001b[0m\u001b[0;34m.\u001b[0m\u001b[0merrRate\u001b[0m\u001b[0;34m(\u001b[0m\u001b[0my_train\u001b[0m\u001b[0;34m,\u001b[0m \u001b[0mtrain_pred\u001b[0m\u001b[0;34m)\u001b[0m\u001b[0;34m)\u001b[0m\u001b[0;34m)\u001b[0m\u001b[0;34m\u001b[0m\u001b[0;34m\u001b[0m\u001b[0m\n\u001b[1;32m      8\u001b[0m \u001b[0;34m\u001b[0m\u001b[0m\n",
      "\u001b[0;32m/tmp/ipykernel_5819/3547940962.py\u001b[0m in \u001b[0;36mpredict\u001b[0;34m(self, X)\u001b[0m\n\u001b[1;32m     37\u001b[0m         \u001b[0;32mfor\u001b[0m \u001b[0mi\u001b[0m \u001b[0;32min\u001b[0m \u001b[0mrange\u001b[0m\u001b[0;34m(\u001b[0m\u001b[0mn\u001b[0m\u001b[0;34m)\u001b[0m\u001b[0;34m:\u001b[0m \u001b[0;31m# 0, ..., n-1\u001b[0m\u001b[0;34m\u001b[0m\u001b[0;34m\u001b[0m\u001b[0m\n\u001b[1;32m     38\u001b[0m             \u001b[0mnns\u001b[0m \u001b[0;34m=\u001b[0m \u001b[0mself\u001b[0m\u001b[0;34m.\u001b[0m\u001b[0mfindKNgbs\u001b[0m\u001b[0;34m(\u001b[0m\u001b[0mX\u001b[0m\u001b[0;34m[\u001b[0m\u001b[0mi\u001b[0m\u001b[0;34m,\u001b[0m \u001b[0;34m:\u001b[0m\u001b[0;34m]\u001b[0m\u001b[0;34m)\u001b[0m \u001b[0;31m# nns, indices of K nearest neighbors\u001b[0m\u001b[0;34m\u001b[0m\u001b[0;34m\u001b[0m\u001b[0m\n\u001b[0;32m---> 39\u001b[0;31m             \u001b[0mlabels\u001b[0m \u001b[0;34m=\u001b[0m \u001b[0mself\u001b[0m\u001b[0;34m.\u001b[0m\u001b[0my_train\u001b[0m\u001b[0;34m[\u001b[0m\u001b[0mnns\u001b[0m\u001b[0;34m]\u001b[0m \u001b[0;31m# class labels\u001b[0m\u001b[0;34m\u001b[0m\u001b[0;34m\u001b[0m\u001b[0m\n\u001b[0m\u001b[1;32m     40\u001b[0m             \u001b[0mcnts\u001b[0m \u001b[0;34m=\u001b[0m \u001b[0mnp\u001b[0m\u001b[0;34m.\u001b[0m\u001b[0mbincount\u001b[0m\u001b[0;34m(\u001b[0m\u001b[0mlabels\u001b[0m\u001b[0;34m)\u001b[0m \u001b[0;31m# voting by counting labels in each category\u001b[0m\u001b[0;34m\u001b[0m\u001b[0;34m\u001b[0m\u001b[0m\n\u001b[1;32m     41\u001b[0m             \u001b[0mpred\u001b[0m\u001b[0;34m[\u001b[0m\u001b[0mi\u001b[0m\u001b[0;34m]\u001b[0m \u001b[0;34m=\u001b[0m \u001b[0mnp\u001b[0m\u001b[0;34m.\u001b[0m\u001b[0margmax\u001b[0m\u001b[0;34m(\u001b[0m\u001b[0mcnts\u001b[0m\u001b[0;34m)\u001b[0m \u001b[0;31m# use the label with the max counts as the predicted label\u001b[0m\u001b[0;34m\u001b[0m\u001b[0;34m\u001b[0m\u001b[0m\n",
      "\u001b[0;31mAttributeError\u001b[0m: 'MyKNN' object has no attribute 'y_train'"
     ]
    }
   ],
   "source": [
    "import time\n",
    "\n",
    "# 1. parameter selection\n",
    "knn2 = MyKNN(20)\n",
    "knn2.fit(X_train, y_train)\n",
    "train_pred = knn2.predict(X_train)\n",
    "print('Error rate on training set:{}%'.format(100*knn2.errRate(y_train, train_pred)))\n",
    "\n",
    "test_pred = knn2.predict(X_test)\n",
    "print('Error rate on test set:{}%'.format(100*knn2.errRate(y_test, test_pred)))\n",
    "\n",
    "\n",
    "# time\n",
    "start = time.time()\n",
    "train_pred = knn2.predict(X_train)\n",
    "end = time.time()\n",
    "print(end - start, 'seconds')\n"
   ]
  },
  {
   "cell_type": "markdown",
   "metadata": {},
   "source": [
    "## 4. Pros and Cons\n",
    "\n",
    "###  Pros\n",
    "1. It can be applied to both regression and classification problems\n",
    "2. Good for problems with very irregular dicision bnoundary\n",
    "\n",
    "### Cons    \n",
    "1. Compute the distance and sort all the training data can be very slow if there are a large number of training examples\n",
    "2. Every sample contributes equally --> citation-KNN (https://papers.nips.cc/paper/1346-a-framework-for-multiple-instance-learning.pdf)\n",
    "3. Sensitive to K\n",
    "4. Not robust to noise -->  implement learning based on the number of neighbors within a fixed radius r of each training poin"
   ]
  },
  {
   "cell_type": "markdown",
   "metadata": {},
   "source": [
    "## 5. Result evaluation: confusion matrix\n",
    "\n",
    "![confusion matrix](cfm.png)  \n",
    "\n",
    "```python\n",
    "from sklearn.metrics import confusion_matrix as cfm\n",
    "\n",
    "m = cfm(y_train, train_pred)\n",
    "print(m)\n",
    "\n",
    "```"
   ]
  },
  {
   "cell_type": "code",
   "execution_count": 12,
   "metadata": {
    "scrolled": true
   },
   "outputs": [],
   "source": [
    "from sklearn.metrics import confusion_matrix as cfm\n",
    "\n"
   ]
  },
  {
   "cell_type": "markdown",
   "metadata": {},
   "source": [
    "## 6. Use KNN in sklearn"
   ]
  },
  {
   "cell_type": "code",
   "execution_count": 15,
   "metadata": {},
   "outputs": [
    {
     "data": {
      "text/plain": [
       "KNeighborsClassifier(n_neighbors=3)"
      ]
     },
     "execution_count": 15,
     "metadata": {},
     "output_type": "execute_result"
    }
   ],
   "source": [
    "from sklearn.neighbors import KNeighborsClassifier\n",
    "\n",
    "ngh = KNeighborsClassifier(n_neighbors=3)\n",
    "ngh.fit(X_train, y_train) \n"
   ]
  }
 ],
 "metadata": {
  "kernelspec": {
   "display_name": "Python 3 (ipykernel)",
   "language": "python",
   "name": "python3"
  },
  "language_info": {
   "codemirror_mode": {
    "name": "ipython",
    "version": 3
   },
   "file_extension": ".py",
   "mimetype": "text/x-python",
   "name": "python",
   "nbconvert_exporter": "python",
   "pygments_lexer": "ipython3",
   "version": "3.9.13"
  }
 },
 "nbformat": 4,
 "nbformat_minor": 2
}
