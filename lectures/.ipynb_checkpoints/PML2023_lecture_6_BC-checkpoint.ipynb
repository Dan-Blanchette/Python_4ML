{
 "cells": [
  {
   "cell_type": "markdown",
   "metadata": {
    "slideshow": {
     "slide_type": "slide"
    }
   },
   "source": [
    "# PML Lecture 6: The scheme of a machine learning program\n",
    "\n",
    "## Quick review\n",
    "\n",
    "1. Machine learning learns models from a set of **n observations (also known as sample, example, instance, record)** of data and then tries to predict **properties** of new data.\n",
    "2. Two categories: supervised learning and unsupervised learning\n",
    "3. Training and test stages. The primary goal of machine learning is to build model that generalizes to new data\n",
    "\n",
    "4. Learn machine learning basics \"An introduction to machine learning with scikit-learn\" from the tutorials at https://scikit-learn.org/stable/tutorial/index.html\n",
    "\n",
    "5. Learn the numpy array.\n",
    "    https://numpy.org/devdocs/user/quickstart.html"
   ]
  },
  {
   "cell_type": "code",
   "execution_count": 6,
   "metadata": {
    "scrolled": true
   },
   "outputs": [
    {
     "name": "stdout",
     "output_type": "stream",
     "text": [
      "0.22.1\n"
     ]
    }
   ],
   "source": [
    "import sklearn as sk\n",
    "print(sk.__version__)\n",
    "#dir(sk)"
   ]
  },
  {
   "cell_type": "markdown",
   "metadata": {},
   "source": [
    "## Agenda\n",
    "\n",
    "- Numpy Array\n",
    "- An example\n",
    "- What machine learning can do? (more examples) \n",
    "\n",
    "- Machine learning algorithms--An overview\n",
    "\n",
    "- The scheme of a machine learning program\n",
    "\n",
    "- A simple machine algorithm\n",
    "\n",
    "- Paractise less basic operations of numpy array (After Class)"
   ]
  },
  {
   "cell_type": "code",
   "execution_count": 7,
   "metadata": {},
   "outputs": [
    {
     "data": {
      "text/plain": [
       "'1.18.1'"
      ]
     },
     "execution_count": 7,
     "metadata": {},
     "output_type": "execute_result"
    }
   ],
   "source": [
    "import numpy as np\n",
    "np.__version__"
   ]
  },
  {
   "cell_type": "markdown",
   "metadata": {},
   "source": [
    "### Example: Iris Classification\n",
    "1. The 'Hello World!' task in machine learning: Iris classification\n",
    "The Iris dataset\n",
    "\n",
    "```python\n",
    "    import sklearn.datasets as ds\n",
    "    iris = ds.load_iris()\n",
    "```\n",
    "    1. 150 observations; 3 different species, and 50 observations for each species.\n",
    "    2. 4 fearures:\n",
    "        - sepal length in cm\n",
    "        - sepal width in cm\n",
    "        - petal length in cm\n",
    "        - petal width in cm\n",
    "    3. Class labels (Species): Iris-Setosa, Iris-Versicolour, and Iris-Virginica\n",
    "![Figure 1: Machine Learning](Iris1.png)    "
   ]
  },
  {
   "cell_type": "code",
   "execution_count": 7,
   "metadata": {},
   "outputs": [],
   "source": [
    "# explore the iris dataset\n",
    "import sklearn.datasets as ds\n",
    "\n",
    "iris = ds.load_iris()\n",
    "print(iris.DESCR)"
   ]
  },
  {
   "cell_type": "code",
   "execution_count": 38,
   "metadata": {},
   "outputs": [
    {
     "data": {
      "text/plain": [
       "['DESCR', 'data', 'feature_names', 'filename', 'target', 'target_names']"
      ]
     },
     "execution_count": 38,
     "metadata": {},
     "output_type": "execute_result"
    }
   ],
   "source": [
    "dir(iris)"
   ]
  },
  {
   "cell_type": "code",
   "execution_count": 16,
   "metadata": {},
   "outputs": [],
   "source": [
    "# load data to numpy array\n",
    "data = iris.data\n",
    "tgts = iris.target"
   ]
  },
  {
   "cell_type": "code",
   "execution_count": 17,
   "metadata": {},
   "outputs": [],
   "source": [
    "# count the # of samples for each categories\n"
   ]
  },
  {
   "cell_type": "markdown",
   "metadata": {},
   "source": [
    "## What machine learning can do? (more examples)\n",
    "1. Example Day-to-Day Life \n",
    "    - Face ID and fingerprint ID\n",
    "    - Email Spam and Malware Filtering (ANN and Decision Tree algorithms) https://www.kaggle.com/c/email-spam/overview \n",
    "    - Product Recommendations, e.g., Netflix Prize https://en.wikipedia.org/wiki/Netflix_Prize \n",
    "    - Online custermer support, e.g., chatbot\n",
    "    - Search Engine Result Refining\n",
    "    - ..."
   ]
  },
  {
   "cell_type": "markdown",
   "metadata": {},
   "source": [
    "2. Advanced applications\n",
    "    - Video surveillance, e.g., critical locations monitoring, traffic monitoring, and wild fire early detection\n",
    "    - Self-Driving. https://carla.readthedocs.io/en/latest/cameras_and_sensors/#camera-semantic-segmentation\n",
    "    - Medical diagnosis, e.g., computer-aided diagnosis (CAD) systems. https://nihcc.app.box.com/v/DeepLesion\n",
    "    - Machine Translator\n",
    "    - Natural language processing. https://en.wikipedia.org/wiki/Natural_language_processing\n",
    "    - Fake banknote detection\n",
    "    - ..."
   ]
  },
  {
   "cell_type": "markdown",
   "metadata": {},
   "source": [
    "3. Do you have other examples/experience to share?"
   ]
  },
  {
   "cell_type": "markdown",
   "metadata": {},
   "source": [
    "## Machine learning algorithms--An overview\n",
    "\n",
    "1. Supervised learning\n",
    "    1. Regression. Linear regression (4), decision tree (5) and random forests (6), K-nearest neighbors (KNN)(1), Neural networks,...\n",
    "    2. Classification. K-nearest neighbors (KNN)(1), Logistic regression (2),Support Vector Machines (3), Neural networks (9), Convolutional neural networks (CNNS) (10)... \n",
    "    \n",
    "2. Unsupervised learning. K-means (7), spectral clustering (8), ...\n",
    "\n",
    "*The numbers in the parenthesis indicate the learning order of these algorithms in this class. we will move 9 and partial 10 to module 4. "
   ]
  },
  {
   "cell_type": "markdown",
   "metadata": {},
   "source": [
    "## The scheme of a machine learning program\n",
    "1. Data preparation\n",
    "2. Training\n",
    "3. Prediction and evaluation\n",
    "4. **Model persistence**"
   ]
  },
  {
   "cell_type": "code",
   "execution_count": 18,
   "metadata": {},
   "outputs": [],
   "source": [
    "#First Machine Learning\n",
    "import numpy as np\n",
    "from sklearn import svm, datasets\n",
    "from sklearn.model_selection import train_test_split\n",
    "\n",
    "#1. data preparation\n",
    "#1.1 load some data to play with\n",
    "iris = datasets.load_iris()\n",
    "X = iris.data # feature vectors\n",
    "y = iris.target # class labels\n",
    "\n",
    "#1.2. Split the data into a training set and a test set\n",
    "\n",
    "\n",
    "#2. model training: SVC: support vector classification\n",
    "\n",
    "#3. prediction and evaluation\n",
    "# 3.1 prediction\n",
    "\n",
    "\n",
    "#3.2 evaluation\n",
    "# error rate: # error output / toal # of samples\n",
    "\n"
   ]
  },
  {
   "cell_type": "code",
   "execution_count": 19,
   "metadata": {},
   "outputs": [],
   "source": [
    "## predicted class labels for the test set\n",
    "\n",
    "\n",
    "## true class labels of the test set\n",
    "\n"
   ]
  },
  {
   "cell_type": "markdown",
   "metadata": {},
   "source": [
    "### Practise less basic operations of numpy array "
   ]
  },
  {
   "cell_type": "code",
   "execution_count": 84,
   "metadata": {},
   "outputs": [
    {
     "name": "stdout",
     "output_type": "stream",
     "text": [
      "float64\n",
      "[ 0  2  4  6  8 10 12 14 16 18]\n",
      "[0 4 8]\n",
      "[[1. 2. 3.]\n",
      " [4. 5. 6.]]\n",
      "[1. 2. 3. 4. 5. 6.]\n"
     ]
    },
    {
     "data": {
      "text/plain": [
       "array([[0., 0., 0.],\n",
       "       [3., 3., 3.]])"
      ]
     },
     "execution_count": 84,
     "metadata": {},
     "output_type": "execute_result"
    }
   ],
   "source": [
    "# basics\n",
    "import numpy as np\n",
    "\n",
    "# create\n",
    "arr = np.array([1, 2, 3], dtype = float)\n",
    "print(arr.dtype.name)\n",
    "arr1 = np.array([4, 5, 6], dtype = float)\n",
    "\n",
    "# element-wise operations\n",
    "arr + arr1\n",
    "arr * arr1\n",
    "arr - arr1\n",
    "\n",
    "#indexing by integers and slicing\n",
    "a = np.arange(10)*2\n",
    "print(a)\n",
    "print(a[0:6:2]) # 2 is the step\n",
    "\n",
    "# stack\n",
    "print(np.vstack((arr, arr1)))\n",
    "print(np.hstack((arr, arr1)))\n",
    "arr3 = np.vstack((arr, arr1))\n",
    "arr3 - arr1"
   ]
  },
  {
   "cell_type": "code",
   "execution_count": 22,
   "metadata": {},
   "outputs": [
    {
     "name": "stdout",
     "output_type": "stream",
     "text": [
      "[1, 3, 5]\n",
      "4 5\n"
     ]
    },
    {
     "data": {
      "text/plain": [
       "array([4, 5])"
      ]
     },
     "execution_count": 22,
     "metadata": {},
     "output_type": "execute_result"
    }
   ],
   "source": [
    "# less basics\n",
    "# indexing by arrays of integers and arrays of booleans\n",
    "lst = [1, 2, 3, 4, 5]\n",
    "print(lst[0::2])\n",
    "\n",
    "lst1 = np.array(lst)\n",
    "j = [0, 1, 2]\n",
    "lst1[j]\n",
    "\n",
    "j = [0, 0, 1, 2]\n",
    "lst1[j]\n",
    "\n",
    "# search the max values\n",
    "ind = lst1.argmax()\n",
    "print(ind, lst1[ind])\n",
    "\n",
    "#assign\n",
    "\n",
    "lst1[[0, 1, 2]] = -1\n",
    "lst1\n",
    "\n",
    "lst1>0\n",
    "lst1[lst1>0]"
   ]
  },
  {
   "cell_type": "code",
   "execution_count": 21,
   "metadata": {},
   "outputs": [
    {
     "name": "stdout",
     "output_type": "stream",
     "text": [
      "[2. 4. 6.]\n",
      "[2. 4. 6.]\n"
     ]
    }
   ],
   "source": [
    "# Broadcasting\n",
    "# deal with inputs that do not have exactly the same shape\n",
    "\n",
    "a = np.array([1.0, 2.0, 3.0])\n",
    "b = np.array([2.0, 2.0, 2.0])\n",
    "print(a * b)\n",
    "\n",
    "a = np.array([1.0, 2.0, 3.0])\n",
    "b = 2.0\n",
    "print(a * b)"
   ]
  }
 ],
 "metadata": {
  "celltoolbar": "Slideshow",
  "kernelspec": {
   "display_name": "Python 3 (ipykernel)",
   "language": "python",
   "name": "python3"
  },
  "language_info": {
   "codemirror_mode": {
    "name": "ipython",
    "version": 3
   },
   "file_extension": ".py",
   "mimetype": "text/x-python",
   "name": "python",
   "nbconvert_exporter": "python",
   "pygments_lexer": "ipython3",
   "version": "3.9.13"
  }
 },
 "nbformat": 4,
 "nbformat_minor": 2
}
