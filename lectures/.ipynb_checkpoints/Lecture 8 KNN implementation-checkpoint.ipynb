{
 "cells": [
  {
   "cell_type": "code",
   "execution_count": 6,
   "id": "872bb1ce",
   "metadata": {},
   "outputs": [
    {
     "name": "stdout",
     "output_type": "stream",
     "text": [
      "(150, 4) (150,)\n",
      "training set (120, 4) (120,)\n",
      "test set (30, 4) (30,)\n"
     ]
    }
   ],
   "source": [
    "import numpy as np\n",
    "from sklearn import datasets as ds\n",
    "from sklearn.model_selection import train_test_split # split dataset into train and test sets\n",
    "\n",
    "# 1. Data preparation\n",
    "iris = ds.load_iris()\n",
    "X = iris.data # feature vectors\n",
    "y = iris.target\n",
    "\n",
    "print(X.shape, y.shape)\n",
    "X_train, X_test, y_train, y_test =train_test_split(X, y, test_size = 0.2) # test_size % of test set\n",
    "\n",
    "print('training set', X_train.shape, y_train.shape)\n",
    "print('test set', X_test.shape, y_test.shape)"
   ]
  },
  {
   "cell_type": "code",
   "execution_count": null,
   "id": "6a5d8629",
   "metadata": {},
   "outputs": [],
   "source": [
    "# 2. Model training\n",
    "# KNN is an instance-based algorithm, and \n",
    "# it does not have the actual training\n"
   ]
  },
  {
   "cell_type": "code",
   "execution_count": null,
   "id": "09d8c573",
   "metadata": {},
   "outputs": [],
   "source": [
    "# 3. Prediction and evaluation\n",
    "# evaluation metric: error rate : % of data samples missclassified\n",
    "\n",
    "# prediction: 1) find the K nearest neighbors; 2)voting to predict"
   ]
  },
  {
   "cell_type": "code",
   "execution_count": 36,
   "id": "da045754",
   "metadata": {},
   "outputs": [
    {
     "name": "stdout",
     "output_type": "stream",
     "text": [
      "[5.6 3.  4.5 1.5]\n",
      "[[49]\n",
      " [62]\n",
      " [27]\n",
      " [71]\n",
      " [73]]\n"
     ]
    }
   ],
   "source": [
    "#1) find the k nns for an input data sample\n",
    "def findKNgbs(x_star, X_train, K = 5):\n",
    "    '''find K nearest neighbors for a given data sample in X_train\n",
    "        \n",
    "        input:\n",
    "            x_star: new data sample. Shape 1 by 4\n",
    "            X_train:\n",
    "        return:\n",
    "            K nearest neighbors\n",
    "    '''\n",
    "    # calculate the Euclidean distance \n",
    "    n = X_train.shape[0] # number of data samples in X_train\n",
    "    dis = np.zeros((n, 1)) # initialize n 0 distances\n",
    "    inx = 0\n",
    "    for x in X_train:\n",
    "        d = np.sqrt(np.sum((x_star-x)*(x_star-x)))\n",
    "        dis[inx] = d\n",
    "        inx = inx + 1\n",
    "        \n",
    "    # find the k nearest neighbors using a sorting algorithm\n",
    "    ind = np.argsort(dis, axis = 0)\n",
    "    \n",
    "    return ind[:K] # return the indices for the K nns\n",
    "\n",
    "x_star = X_test[0]\n",
    "print(x_star)\n",
    "k_inx = findKNgbs(x_star, X_train, K=5)\n",
    "print(k_inx)"
   ]
  },
  {
   "cell_type": "code",
   "execution_count": 37,
   "id": "7c283fc4",
   "metadata": {},
   "outputs": [
    {
     "name": "stdout",
     "output_type": "stream",
     "text": [
      "[[1]\n",
      " [1]\n",
      " [1]\n",
      " [1]\n",
      " [1]]\n",
      "[0 5]\n",
      "the prediction is 1\n"
     ]
    }
   ],
   "source": [
    "# prediction\n",
    "# check the class lables of the k nns\n",
    "k_labels = y_train[k_inx]\n",
    "print(k_labels)\n",
    "#print(k_labels.reshape(5,))\n",
    "\n",
    "counts = np.bincount(k_labels.reshape((5,)), minlength = 2)\n",
    "print(counts)\n",
    "\n",
    "y_pred =np.argmax(counts)\n",
    "print('the prediction is', y_pred)"
   ]
  },
  {
   "cell_type": "code",
   "execution_count": null,
   "id": "6324a4f2",
   "metadata": {},
   "outputs": [],
   "source": [
    "# afterclass practice\n",
    "#1. how do we calculate the predictions for all test data samples\n",
    "\n",
    "\n",
    "#2. calculate the error rate on the test set\n",
    "# try to use differnt K\n"
   ]
  },
  {
   "cell_type": "code",
   "execution_count": null,
   "id": "9cb70cd6",
   "metadata": {},
   "outputs": [],
   "source": [
    "#4. model persistance\n",
    "\n"
   ]
  }
 ],
 "metadata": {
  "kernelspec": {
   "display_name": "Python 3 (ipykernel)",
   "language": "python",
   "name": "python3"
  },
  "language_info": {
   "codemirror_mode": {
    "name": "ipython",
    "version": 3
   },
   "file_extension": ".py",
   "mimetype": "text/x-python",
   "name": "python",
   "nbconvert_exporter": "python",
   "pygments_lexer": "ipython3",
   "version": "3.9.13"
  }
 },
 "nbformat": 4,
 "nbformat_minor": 5
}
