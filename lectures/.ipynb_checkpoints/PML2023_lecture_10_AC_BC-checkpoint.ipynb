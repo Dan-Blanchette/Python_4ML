{
 "cells": [
  {
   "cell_type": "markdown",
   "metadata": {},
   "source": [
    "# Lecture 10: Cross-validation\n",
    "We have discussed a simple validation method to evaluate the performance of a machine learning (ML) model.\n",
    "- Randomly split a data set into two parts: one is used as the *training set* to train a machine learning model. The other set-the *test set*- is used to calculate the test error (**generalization error**)\n",
    "- The ultimate goal is to train a ML model that has the minumum generalization error.\n",
    "- A common methodological mistake is \"testing on the training set\": involve test data samples in the training set.\n",
    "\n",
    "\n",
    "## Agenda\n",
    "1. One issue of the simple validation approach \n",
    "2. K-fold cross-validation\n",
    "    1. model performance evaluation\n",
    "    2. parameter searching for small datasets\n",
    "3. Other evaluation metrics"
   ]
  },
  {
   "cell_type": "markdown",
   "metadata": {},
   "source": [
    "### 1. One issue of the simple validation approach."
   ]
  },
  {
   "cell_type": "code",
   "execution_count": 1,
   "metadata": {},
   "outputs": [
    {
     "name": "stdout",
     "output_type": "stream",
     "text": [
      "0 mean test accuracy of 5 nearest neighbor(s) is 0.9556 \n",
      "1 mean test accuracy of 5 nearest neighbor(s) is 0.9778 \n",
      "2 mean test accuracy of 5 nearest neighbor(s) is 0.9778 \n",
      "3 mean test accuracy of 5 nearest neighbor(s) is 0.9778 \n",
      "4 mean test accuracy of 5 nearest neighbor(s) is 1.0 \n",
      "5 mean test accuracy of 5 nearest neighbor(s) is 1.0 \n",
      "6 mean test accuracy of 5 nearest neighbor(s) is 0.9556 \n",
      "7 mean test accuracy of 5 nearest neighbor(s) is 0.9778 \n",
      "8 mean test accuracy of 5 nearest neighbor(s) is 1.0 \n",
      "9 mean test accuracy of 5 nearest neighbor(s) is 0.9778 \n"
     ]
    }
   ],
   "source": [
    "import numpy as np\n",
    "\n",
    "from sklearn import datasets\n",
    "from sklearn.model_selection import train_test_split\n",
    "from sklearn.neighbors import KNeighborsClassifier\n",
    "from sklearn.metrics import confusion_matrix\n",
    "\n",
    "ds = datasets.load_iris()\n",
    "X = ds.data\n",
    "y = ds.target\n",
    "\n",
    "for i in range(10): # run the training and test of KNN model 10 times\n",
    "    X_train, X_test, y_train, y_test = \\\n",
    "    train_test_split(X, y, test_size = 0.3) # generate different test sets\n",
    "\n",
    "    k = 5\n",
    "    # KNeighborsClassifier is a class --> go to the source code:\n",
    "    # http://scikit-learn.org/stable/modules/generated/sklearn.neighbors.KNeighborsClassifier.html#sklearn.neighbors.KNeighborsClassifier.score\n",
    "    knn = KNeighborsClassifier(n_neighbors = k)\n",
    "    knn.fit(X_train, y_train) # construct the BallTree or KDTree\n",
    "    y_test_pred = knn.predict(X_test)\n",
    "    mean_acc = knn.score(X_test, y_test) #acc = 1-errorRate\n",
    "    print(i, 'mean test accuracy of {} nearest neighbor(s) is {} '.format(k, round(mean_acc, 4)))  "
   ]
  },
  {
   "cell_type": "markdown",
   "metadata": {},
   "source": [
    "For a small dataset, the split will reduce the number of samples used for learning the model, and the performance can depend on a particular random choice for the pair of training and test sets."
   ]
  },
  {
   "cell_type": "markdown",
   "metadata": {
    "collapsed": true
   },
   "source": [
    "### 1.1. What is overfitting?\n",
    "Overfitting is a problem that a model fits too exactly to a training dataset, and fails to has good performance on fitting new data.\n",
    "\n",
    "### 1.2 Solve the overfitting problem by spliting dataset into training and test sets"
   ]
  },
  {
   "cell_type": "code",
   "execution_count": 1,
   "metadata": {},
   "outputs": [
    {
     "name": "stdout",
     "output_type": "stream",
     "text": [
      "KNN confusion matrix for test set\n",
      " [[17  0  0]\n",
      " [ 0 15  0]\n",
      " [ 0  0 13]]\n",
      "mean accuracy of 1 nearest neighbor(s) is 1.0 \n",
      "KNN confusion matrix for test set\n",
      " [[17  0  0]\n",
      " [ 0 15  0]\n",
      " [ 0  0 13]]\n",
      "mean accuracy of 3 nearest neighbor(s) is 1.0 \n",
      "KNN confusion matrix for test set\n",
      " [[17  0  0]\n",
      " [ 0 15  0]\n",
      " [ 0  0 13]]\n",
      "mean accuracy of 5 nearest neighbor(s) is 1.0 \n",
      "KNN confusion matrix for test set\n",
      " [[17  0  0]\n",
      " [ 0 14  1]\n",
      " [ 0  0 13]]\n",
      "mean accuracy of 7 nearest neighbor(s) is 0.9778 \n",
      "KNN confusion matrix for test set\n",
      " [[17  0  0]\n",
      " [ 0 14  1]\n",
      " [ 0  0 13]]\n",
      "mean accuracy of 9 nearest neighbor(s) is 0.9778 \n"
     ]
    }
   ],
   "source": [
    "# train a KNN model (including parameter searching) using use the training and test sets\n",
    "\n",
    "import numpy as np\n",
    "\n",
    "from sklearn import datasets\n",
    "from sklearn.model_selection import train_test_split\n",
    "from sklearn.neighbors import KNeighborsClassifier\n",
    "from sklearn.metrics import confusion_matrix\n",
    "\n",
    "ds= datasets.load_iris()\n",
    "X=ds.data\n",
    "y =ds.target\n",
    "\n",
    "X_train, X_test, y_train, y_test = \\\n",
    "train_test_split(X, y, test_size = 0.3, random_state = 2) # 0, 5\n",
    "\n",
    "\n",
    "# KNeighborsClassifier is a class --> go to the source\n",
    "# http://scikit-learn.org/stable/modules/generated/sklearn.neighbors.KNeighborsClassifier.html#sklearn.neighbors.KNeighborsClassifier.score\n",
    "for k in [1, 3, 5, 7, 9]:\n",
    "    knn = KNeighborsClassifier(n_neighbors = k)\n",
    "    knn.fit(X_train, y_train) #construct the BallTree or KDTree\n",
    "    y_test_pred = knn.predict(X_test)\n",
    "    cfm = confusion_matrix(y_test, y_test_pred)\n",
    "    print('KNN confusion matrix for test set\\n', cfm)\n",
    "\n",
    "    mean_acc = knn.score(X_test, y_test)\n",
    "    print('mean accuracy of {} nearest neighbor(s) is {} '.format(k, round(mean_acc, 4)))\n",
    "\n",
    "# We obtained a KNN model with k = 1 that produce the highest acc on the test set"
   ]
  },
  {
   "cell_type": "markdown",
   "metadata": {},
   "source": [
    "### 2. k-fold cross-validation (CV)\n",
    "K-fold CV is used for solving the above issue.\n",
    "\n",
    "1. Randomly divide a dataset (n) into k disjoint subsets(folds) of equal size n/k \n",
    "2. Use k-1 of the folds as training set, and the remaining 1 fold as the test set\n",
    "3. Train and test the model\n",
    "4. Repeat steps 2 and 3 until all folds have been used for test\n",
    "5. The final performance will be the average of the measures of the k-fold validation\n",
    "\n",
    "![k-fold cv](kfcv.png)"
   ]
  },
  {
   "cell_type": "code",
   "execution_count": 6,
   "metadata": {},
   "outputs": [
    {
     "name": "stdout",
     "output_type": "stream",
     "text": [
      "[0.96666667 0.96666667 0.93333333 0.93333333 1.        ]\n",
      "Accuracy: 0.96 +/- 0.02\n"
     ]
    }
   ],
   "source": [
    "# use the cross_val_score function for k-fold cross-validation\n",
    "import numpy as np\n",
    "\n",
    "from sklearn import datasets\n",
    "from sklearn.model_selection import train_test_split\n",
    "from sklearn.neighbors import KNeighborsClassifier\n",
    "\n",
    "from sklearn.model_selection import cross_val_score\n",
    "\n",
    "k =1\n",
    "knn = KNeighborsClassifier(n_neighbors = k)\n",
    "scores = cross_val_score(knn, X, y, cv = 5, scoring = 'accuracy')\n",
    "print(scores)\n",
    "print('Accuracy: %0.2f +/- %0.2f'%(scores.mean(), scores.std()))"
   ]
  },
  {
   "cell_type": "code",
   "execution_count": 2,
   "metadata": {},
   "outputs": [
    {
     "name": "stdout",
     "output_type": "stream",
     "text": [
      "k: 1. Accuracy: 0.96 +/- 0.02\n",
      "k: 3. Accuracy: 0.97 +/- 0.02\n",
      "k: 4. Accuracy: 0.97 +/- 0.01\n",
      "k: 5. Accuracy: 0.97 +/- 0.02\n",
      "k: 6. Accuracy: 0.98 +/- 0.02\n",
      "k: 7. Accuracy: 0.98 +/- 0.02\n",
      "k: 8. Accuracy: 0.97 +/- 0.03\n",
      "k: 9. Accuracy: 0.97 +/- 0.02\n"
     ]
    }
   ],
   "source": [
    "# use the cross_val_score function for parameter searching\n",
    "import numpy as np\n",
    "\n",
    "from sklearn import datasets\n",
    "from sklearn.model_selection import train_test_split\n",
    "from sklearn.neighbors import KNeighborsClassifier\n",
    "\n",
    "from sklearn.model_selection import cross_val_score\n",
    "\n",
    "for k in [1,3,4, 5,6, 7,8, 9]:\n",
    "    knn = KNeighborsClassifier(n_neighbors = k)#am empty model\n",
    "    scores = cross_val_score(knn, X, y, cv = 5, scoring = 'accuracy')\n",
    "    #print(scores)\n",
    "    print('k: %d. Accuracy: %0.2f +/- %0.2f'%(k, scores.mean(), scores.std()))\n"
   ]
  },
  {
   "cell_type": "markdown",
   "metadata": {},
   "source": [
    "### 3. Other evaluation metrics\n",
    "\n",
    "- error rate\n",
    "- accuracy\n",
    "- precision(PR): defined as the number of true positives over the number of predicted positives (true positives plus the number of false positives)\n",
    "- recall rate(RR): the number of true positives over the number of real positives (true positives plus the number of false negatives)"
   ]
  },
  {
   "cell_type": "code",
   "execution_count": 25,
   "metadata": {},
   "outputs": [
    {
     "name": "stdout",
     "output_type": "stream",
     "text": [
      "k: 1. Recall: 0.96 (+/- 0.02)\n",
      "k: 3. Recall: 0.97 (+/- 0.02)\n",
      "k: 5. Recall: 0.98 (+/- 0.02)\n",
      "k: 7. Recall: 0.98 (+/- 0.01)\n",
      "k: 9. Recall: 0.97 (+/- 0.02)\n"
     ]
    }
   ],
   "source": [
    "# Other metrics\n",
    "# accuracy\n",
    "\n",
    "# precision: tp (correctly classified samples)/(tp + fp) for each calss\n",
    "# recall ratio: tp/(tp + fn: is total # of smples in one cate.): fn false nagtive: 0 is the true label, predicted labels are 1 or 2\n",
    "\n",
    "import numpy as np\n",
    "\n",
    "from sklearn import datasets\n",
    "from sklearn.model_selection import train_test_split\n",
    "from sklearn.neighbors import KNeighborsClassifier\n",
    "\n",
    "from sklearn.model_selection import cross_val_score\n",
    "\n",
    "for k in [1, 3, 5, 7, 9]:\n",
    "    knn = KNeighborsClassifier(n_neighbors = k)\n",
    "    scores = cross_val_score(knn, X, y, cv=5, scoring = 'precision_macro')\n",
    "    #print(scores)\n",
    "    print(\"k: %d. Precision: %0.2f (+/- %0.2f)\" % (k, scores.mean(), scores.std()))"
   ]
  },
  {
   "cell_type": "code",
   "execution_count": null,
   "metadata": {
    "collapsed": true
   },
   "outputs": [],
   "source": []
  }
 ],
 "metadata": {
  "kernelspec": {
   "display_name": "Python 3 (ipykernel)",
   "language": "python",
   "name": "python3"
  },
  "language_info": {
   "codemirror_mode": {
    "name": "ipython",
    "version": 3
   },
   "file_extension": ".py",
   "mimetype": "text/x-python",
   "name": "python",
   "nbconvert_exporter": "python",
   "pygments_lexer": "ipython3",
   "version": "3.9.13"
  }
 },
 "nbformat": 4,
 "nbformat_minor": 2
}
