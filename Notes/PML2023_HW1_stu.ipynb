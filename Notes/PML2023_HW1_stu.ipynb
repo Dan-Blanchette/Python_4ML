{
 "cells": [
  {
   "cell_type": "markdown",
   "metadata": {},
   "source": [
    "# Lecture 8 Notes - KNN Implementation"
   ]
  },
  {
   "cell_type": "markdown",
   "metadata": {},
   "source": [
    "Machine Learning steps\n",
    "1. Data preparation\n",
    "2. Model Training\n",
    "3. Prediction and Evaluation\n",
    "   - evalutation metric: % ofsamples missclassified\n",
    "4. Model Persistance\n",
    "   - how well it does in real world??"
   ]
  },
  {
   "cell_type": "code",
   "execution_count": 3,
   "metadata": {},
   "outputs": [
    {
     "name": "stdout",
     "output_type": "stream",
     "text": [
      "(150, 4) (150,)\n",
      "training set: (120, 4), (120,)\n",
      "test set: (30, 4), (30,)\n"
     ]
    }
   ],
   "source": [
    "import numpy as np\n",
    "from sklearn import datasets as ds # only imports some modules from sklearn. good because whole module may be too large\n",
    "from sklearn.model_selection import train_test_split # split dataset into train and test sets\n",
    "\n",
    "# data preparation\n",
    "iris = ds.load_iris() #loading dataset on iris stuff\n",
    "X = iris.data # feature vectors ie data\n",
    "y = iris.target # classification of feature vectors in number format\n",
    "\n",
    "print(X.shape, y.shape) # will give size of each vector\n",
    "X_train, X_test, y_train, y_test = train_test_split(X,y, test_size=0.2) # splits data set into a training set and test set\n",
    "                                                                        # with corresponding target vectors\n",
    "\n",
    "print(f\"training set: {X_train.shape}, {y_train.shape}\")\n",
    "print(f\"test set: {X_test.shape}, {y_test.shape}\")"
   ]
  },
  {
   "cell_type": "code",
   "execution_count": null,
   "metadata": {},
   "outputs": [],
   "source": [
    "# model training\n",
    "# KNN is an instance-based algorithm, and it does not have actual training"
   ]
  },
  {
   "cell_type": "code",
   "execution_count": null,
   "metadata": {},
   "outputs": [],
   "source": [
    "# prediction and evaluation\n",
    "# evaluation: error rate % of data samples missclassified\n",
    "\n",
    "# prediction: 1) find K nearest neighbors 2) voting to predict"
   ]
  },
  {
   "cell_type": "code",
   "execution_count": 5,
   "metadata": {},
   "outputs": [
    {
     "name": "stdout",
     "output_type": "stream",
     "text": [
      "[[22]\n",
      " [48]\n",
      " [23]\n",
      " [ 3]\n",
      " [31]]\n"
     ]
    }
   ],
   "source": [
    "# find K nearest neighbors for an input data sample\n",
    "def findKnNbs(x_star, X_train, K=5):\n",
    "    \"\"\"find K nearest neighbors for sample in the training set\n",
    "\n",
    "    :param x_star: new data sample. Shape 1 by 4\n",
    "    :param X_train: _description_\n",
    "\n",
    "    return:\n",
    "        K nearest neighbors' indeces\n",
    "    \"\"\"\n",
    "    # calculate euclidean distance\n",
    "    n = X_train.shape[0]\n",
    "    dist = np.zeros((n,1)) # create numpy array of size n and init all val with 0\n",
    "    \n",
    "    index = 0\n",
    "    for x in X_train:\n",
    "        # d = ((x_star-x)*(x_star-x)).sum() # element wise multiplication\n",
    "        d = np.sqrt(np.sum((x_star-x)*(x_star-x)))\n",
    "        dist[index] = d\n",
    "        index += 1\n",
    "    \n",
    "    # find k nearest neighbors using a sorting algo\n",
    "    # numpy has sort!\n",
    "    # print(dist)\n",
    "    ind = np.argsort(dist, axis=0)\n",
    "    # print(ind)\n",
    "    # print(ind[:K]) # this slices up to the Kth element\n",
    "    return ind[:K]\n",
    "\n",
    "k_inx = findKnNbs(X_test[0], X_train)\n",
    "print(k_inx)"
   ]
  },
  {
   "cell_type": "code",
   "execution_count": 18,
   "metadata": {},
   "outputs": [
    {
     "name": "stdout",
     "output_type": "stream",
     "text": [
      "[5.  3.5 1.3 0.3]\n",
      "[5.1 3.5 1.4 0.2]\n"
     ]
    },
    {
     "data": {
      "text/plain": [
       "0.17320508075688743"
      ]
     },
     "execution_count": 18,
     "metadata": {},
     "output_type": "execute_result"
    }
   ],
   "source": [
    "# how to find euclidean distance\n",
    "\"\"\"QUESTION\n",
    "how does this translate to our samples? we're subtracting flower width, adding it to flower petal height, etc\n",
    "\n",
    "is this how we should graph it then also?\n",
    "\"\"\"\n",
    "x_star = X_test[0]\n",
    "print(x_star)\n",
    "\n",
    "x = X_train[0]\n",
    "print(x)\n",
    "\n",
    "np.sqrt(np.sum((x_star-x)*(x_star-x)))"
   ]
  },
  {
   "cell_type": "code",
   "execution_count": 39,
   "metadata": {},
   "outputs": [
    {
     "name": "stdout",
     "output_type": "stream",
     "text": [
      "[0 0 5]\n",
      "the prediction is 2\n"
     ]
    }
   ],
   "source": [
    "# prediction\n",
    "# check the class lables of the k nns\n",
    "k_labels = y_train[k_inx] # all 2's, which means the input sample will have label of 2\n",
    "# print(k_labels) # matrix but we need a vector\n",
    "\n",
    "counts = np.bincount(k_labels.reshape((5,)))\n",
    "# print(counts)\n",
    "y_pred = np.argmax(counts)\n",
    "print(f\"the prediction is {y_pred}\")"
   ]
  },
  {
   "cell_type": "code",
   "execution_count": 11,
   "metadata": {},
   "outputs": [
    {
     "name": "stdout",
     "output_type": "stream",
     "text": [
      "0.06666666666666667\n"
     ]
    }
   ],
   "source": [
    "# after class practice\n",
    "# 1. how do we calculate the predictions for all test data samples\n",
    "test_pred = np.zeros(X_test.shape[0])\n",
    "index = 0\n",
    "for i in X_test:\n",
    "    ind = findKnNbs(i, X_train)\n",
    "\n",
    "    i_labels = y_train[ind]\n",
    "    counts = np.bincount(i_labels.reshape((5,)))\n",
    "    y_pred = np.argmax(counts)\n",
    "    test_pred[index] = y_pred\n",
    "\n",
    "    index += 1\n",
    "\n",
    "# 2. calculate the error rate on the test set\n",
    "\n",
    "test_err = (test_pred != y_test).sum()/y_test.shape[0]\n",
    "print(test_err)\n",
    "# try to use different k"
   ]
  },
  {
   "cell_type": "code",
   "execution_count": null,
   "metadata": {},
   "outputs": [],
   "source": [
    "# model persistance"
   ]
  }
 ],
 "metadata": {
  "kernelspec": {
   "display_name": "Python 3 (ipykernel)",
   "language": "python",
   "name": "python3"
  },
  "language_info": {
   "codemirror_mode": {
    "name": "ipython",
    "version": 3
   },
   "file_extension": ".py",
   "mimetype": "text/x-python",
   "name": "python",
   "nbconvert_exporter": "python",
   "pygments_lexer": "ipython3",
   "version": "3.9.13"
  },
  "vscode": {
   "interpreter": {
    "hash": "2d4ffd561939da40553e22dd41dc688781c0a55d46e8f31257449c6f6c232c42"
   }
  }
 },
 "nbformat": 4,
 "nbformat_minor": 2
}
