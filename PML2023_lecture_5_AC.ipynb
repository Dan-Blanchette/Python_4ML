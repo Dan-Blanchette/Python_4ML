{
 "cells": [
  {
   "cell_type": "markdown",
   "metadata": {
    "slideshow": {
     "slide_type": "slide"
    }
   },
   "source": [
    "# Lecture 5: Machine Learning Basics\n",
    "\n",
    "## Agenda: \n",
    "1. What is machine learning?\n",
    "2. How does machine learning work?\n",
    "3. Scikit-learn\n",
    "4. Numpy"
   ]
  },
  {
   "cell_type": "markdown",
   "metadata": {
    "slideshow": {
     "slide_type": "slide"
    }
   },
   "source": [
    "##  1. What is Machine Learning ?\n",
    "Machine learning learns models from a set of **n observations (also known as samples, examples, instances, records)** of data and then tries to predict **properties** of new data. \n",
    "\n",
    "                                  \n",
    "|![Figure 1: Machine Learning](ML_training.png)|\n",
    "|-----------------------------|\n",
    "|Figure 1. Machine Learning|"
   ]
  },
  {
   "cell_type": "markdown",
   "metadata": {
    "slideshow": {
     "slide_type": "slide"
    }
   },
   "source": [
    "### Statistics and ML\n",
    "\n",
    "1. Statistics is a subfield of mathematics while ML is a subfield of computer science and grew out of AI to focus on learning from data\n",
    "\n",
    "2. ML started to flourish as a separate field in the 1990s and changed the focus to methods borrowed from statistics and probability theory.\n",
    "\n",
    "2. Statistics and ML are closely related in terms of methodological principles but are different in their primary goals\n",
    "    - ML concentrates on prediction to identify the best course of actions with no or limited understanding of the underlying mechanism. Used for more complex relationship and large data sets.\n",
    "    - Statistics have a focus on inference by modeling the data generation process to formalize understanding (although statistics can perform predictions as well). Traditionally used for small data sets.\n"
   ]
  },
  {
   "cell_type": "markdown",
   "metadata": {
    "slideshow": {
     "slide_type": "slide"
    }
   },
   "source": [
    "### Two main categories of ML\n",
    "1. Supervised learning, in which the data comes with additional ***labels/attributes that we want to predict***. This problem can be either: \n",
    "    1. Classification: the desired output consists of a finite number of **discrete categories** \n",
    "        1. Examples: handwritten digit recognition, Iris classification and spam or ham email classification\n",
    "    2. Regression: the desired output consists of one or more **continuous variables**\n",
    "        1. Predict the final score (0-100) of students using their grades of homework\n",
    "![Figure 3: Machine Learning](handwritten.png)\n",
    "2. Unsupervised learning, in which the training data consists of a set of input vectors x **without any corresponding target labels**. \n",
    "    1. Clustering: discover groups of similar examples within the data, e.g., group shoppers with similar behavior\n",
    "![Figure 3: Machine Learning](clusters.png)\n",
    "    2. Density estimation: determine the distribution of data \n",
    "    3. Dimensionality Reduction: project the data from a high-dimensional space down to low dimensions"
   ]
  },
  {
   "cell_type": "markdown",
   "metadata": {},
   "source": [
    "## 2. How does machine learning work?\n",
    "Take supervised learning for example:\n",
    "1. First Training a machine learning using labeled data\n",
    "    1. labeled data with labels (output)\n",
    "    2. machine learning models learns the relationship of the input data and output(labels)\n",
    "2. Make prediction in new data that was not used in training the model\n",
    "    1. The primary goal of machine learning is to build model that generalizes to new data\n",
    "    \n",
    "![Figure 2: Machine Learning](ML_tt.png)"
   ]
  },
  {
   "cell_type": "markdown",
   "metadata": {},
   "source": [
    "## 3. Scikit-learn\n",
    "\n",
    "1. Learn machine learning basics \"An introduction to machine learning with scikit-learn\" from the tutorials at https://scikit-learn.org/stable/tutorial/index.html\n",
    "2. Use datasets in Scikit-learn"
   ]
  },
  {
   "cell_type": "code",
   "execution_count": 1,
   "metadata": {
    "scrolled": false
   },
   "outputs": [
    {
     "name": "stdout",
     "output_type": "stream",
     "text": [
      "sklearn version: 0.24.1\n"
     ]
    }
   ],
   "source": [
    "#import scikit-learn package\n",
    "import sklearn as sk # run __init__ first\n",
    "print('sklearn version:', sk.__version__)\n",
    "\n",
    "# check scikit-learn folder: C:\\Program Files\\Anaconda3\\Lib\\site-packages\\sklearn "
   ]
  },
  {
   "cell_type": "code",
   "execution_count": 2,
   "metadata": {
    "scrolled": true
   },
   "outputs": [
    {
     "data": {
      "text/plain": [
       "['DESCR',\n",
       " 'data',\n",
       " 'feature_names',\n",
       " 'filename',\n",
       " 'frame',\n",
       " 'target',\n",
       " 'target_names']"
      ]
     },
     "execution_count": 2,
     "metadata": {},
     "output_type": "execute_result"
    }
   ],
   "source": [
    "# explore iris dataset\n",
    "import sklearn.datasets as ds\n",
    "iris = ds.load_iris()\n",
    "dir(iris) # show all keys"
   ]
  },
  {
   "cell_type": "code",
   "execution_count": 3,
   "metadata": {},
   "outputs": [
    {
     "data": {
      "text/plain": [
       "sklearn.utils.Bunch"
      ]
     },
     "execution_count": 3,
     "metadata": {},
     "output_type": "execute_result"
    }
   ],
   "source": [
    "# get access to data in iris using keys\n",
    "type(iris)\n",
    "#: iris['data']: input data, # of samples * # of features\n",
    "#iris['target']: labels"
   ]
  },
  {
   "cell_type": "code",
   "execution_count": 4,
   "metadata": {
    "scrolled": true
   },
   "outputs": [],
   "source": [
    "# get access to to data using attributes\n",
    "ftrs = iris.data # they are all numpy arraies\n",
    "labels = iris.target"
   ]
  },
  {
   "cell_type": "code",
   "execution_count": 5,
   "metadata": {
    "slideshow": {
     "slide_type": "-"
    }
   },
   "outputs": [
    {
     "data": {
      "text/plain": [
       "(150, 4)"
      ]
     },
     "execution_count": 5,
     "metadata": {},
     "output_type": "execute_result"
    }
   ],
   "source": [
    "ftrs.shape # tells the dimensionality of the array"
   ]
  },
  {
   "cell_type": "code",
   "execution_count": 6,
   "metadata": {},
   "outputs": [
    {
     "data": {
      "text/plain": [
       "array([5.9, 3. , 5.1, 1.8])"
      ]
     },
     "execution_count": 6,
     "metadata": {},
     "output_type": "execute_result"
    }
   ],
   "source": [
    "# get access to the last feature vector/sample\n",
    "ftrs[-1]"
   ]
  },
  {
   "cell_type": "markdown",
   "metadata": {},
   "source": [
    "### 4. Practice NumPy array\n",
    "\n",
    "1. Learn the numpy array.https://numpy.org/doc/stable/user/quickstart.html\n",
    "  - NumPy is the fundamental package for scientific computing.\n",
    "  - Numpy arrays are more efficient than Python’s built-in data strctures, e.g., Lists.\n",
    "  - Create numpy array using Numpy.array()\n",
    "  - Data inside an array must be of the same data type\n",
    "  - Can perform element-wise operation (not possible in Lists)\n",
    "  \n",
    "  \n",
    "2. Functions and Methods: concatenate, diagonal, dsplit, dstack, hsplit, hstack, newaxis, ravel, repeat, reshape, resize, squeeze, swapaxes, take, transpose, vsplit, vstack\n",
    "\n",
    "3. Ordering: argmax, argmin, argsort, max, min, searchsorted, sort\n",
    "\n",
    "4. math and statistics: cov, mean, std, var,all, any, inner, invert, max, maximum, mean, median, min, minimum, nonzero, outer, prod, re, round, sort, std, sum, trace, transpose\n",
    "\n"
   ]
  },
  {
   "cell_type": "markdown",
   "metadata": {},
   "source": [
    "Time comparison between Numpy arrayes and Python lists "
   ]
  },
  {
   "cell_type": "code",
   "execution_count": 29,
   "metadata": {},
   "outputs": [
    {
     "name": "stdout",
     "output_type": "stream",
     "text": [
      "Time taken by two lists: 0.12686777114868164 seconds\n",
      "Time taken by NumPy arrays: 0.012990713119506836 seconds\n"
     ]
    }
   ],
   "source": [
    "# time taken for element-wise multiplication\n",
    "import numpy\n",
    "import time\n",
    "  \n",
    "sz = 1000000\n",
    "\n",
    "# two lists\n",
    "l1 = range(sz)\n",
    "l2 = range(sz)\n",
    "\n",
    "# two numpy arrays\n",
    "a1 = numpy.arange(sz)\n",
    "a2 = numpy.arange(sz)\n",
    "  \n",
    "# initial time stamp for list computation\n",
    "initialTime = time.time()\n",
    "# perform element-wise multipication\n",
    "results = [(a * b) for a, b in zip(l1, l2)]  \n",
    "#execution time\n",
    "print(\"Time taken by two lists:\", \n",
    "      (time.time() - initialTime),\"seconds\")\n",
    "  \n",
    "# initial time stamp for numpy computation\n",
    "initialTime = time.time() \n",
    "results = a1 * a2\n",
    "#execution time\n",
    "print(\"Time taken by NumPy arrays:\", \n",
    "      (time.time() - initialTime), \"seconds\")"
   ]
  },
  {
   "cell_type": "code",
   "execution_count": null,
   "metadata": {},
   "outputs": [],
   "source": [
    "# more practice on Numpy\n",
    "\n",
    "\n",
    "\n",
    "\n",
    "\n"
   ]
  }
 ],
 "metadata": {
  "celltoolbar": "Slideshow",
  "kernelspec": {
   "display_name": "Python 3 (ipykernel)",
   "language": "python",
   "name": "python3"
  },
  "language_info": {
   "codemirror_mode": {
    "name": "ipython",
    "version": 3
   },
   "file_extension": ".py",
   "mimetype": "text/x-python",
   "name": "python",
   "nbconvert_exporter": "python",
   "pygments_lexer": "ipython3",
   "version": "3.8.8"
  }
 },
 "nbformat": 4,
 "nbformat_minor": 2
}
