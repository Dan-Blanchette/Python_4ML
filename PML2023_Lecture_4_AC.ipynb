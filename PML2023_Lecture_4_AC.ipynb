{
 "cells": [
  {
   "cell_type": "markdown",
   "metadata": {},
   "source": [
    "# Quick review and practice\n",
    "\n",
    "- if test\n",
    "\n",
    "\n",
    "    if test1:\n",
    "        statements: perform action 1\n",
    "    elif test2:\n",
    "        statements: perform action 2\n",
    "    else: \n",
    "        statements: perform action 3\n",
    "        \n",
    "\n",
    "- while loop\n",
    "\n",
    "- for loop\n",
    "\n",
    "- An example and practice"
   ]
  },
  {
   "cell_type": "markdown",
   "metadata": {},
   "source": [
    "Using `if-else` and the `input()` function, create a program that asks to enter a password, and if the password is 123456 it displays 'Welcome!' and if not it displays 'Access denied!'."
   ]
  },
  {
   "cell_type": "code",
   "execution_count": 5,
   "metadata": {},
   "outputs": [
    {
     "name": "stdout",
     "output_type": "stream",
     "text": [
      "Enter the password:123\n",
      "123\n"
     ]
    }
   ],
   "source": [
    "s = input('Enter the password:')\n",
    "print(s)"
   ]
  },
  {
   "cell_type": "code",
   "execution_count": 7,
   "metadata": {},
   "outputs": [
    {
     "name": "stdout",
     "output_type": "stream",
     "text": [
      "Enter the password:123\n",
      "Access denied!\n"
     ]
    }
   ],
   "source": [
    "pwd = input('Enter the password:')\n",
    "if pwd == '123456':\n",
    "    print('Welcome')\n",
    "else:\n",
    "    print('Access denied!')"
   ]
  },
  {
   "cell_type": "markdown",
   "metadata": {},
   "source": [
    "Supose we are asked to write a Python program to calculate square root of a number input by user. The program should be able to interact with user to allow user input from keyboard, and print our the results."
   ]
  },
  {
   "cell_type": "code",
   "execution_count": 12,
   "metadata": {},
   "outputs": [
    {
     "name": "stdout",
     "output_type": "stream",
     "text": [
      "input a number:64\n",
      "the squre root of the input number is 8.0\n"
     ]
    }
   ],
   "source": [
    "import math\n",
    "\n",
    "n = input('input a number:')\n",
    "n = float(n)\n",
    "res =math.sqrt(n)\n",
    "print('the squre root of the input number is', res)\n",
    "#math.sqrt()"
   ]
  },
  {
   "cell_type": "markdown",
   "metadata": {},
   "source": [
    "Run the code once, and input multiple times"
   ]
  },
  {
   "cell_type": "code",
   "execution_count": 15,
   "metadata": {},
   "outputs": [
    {
     "name": "stdout",
     "output_type": "stream",
     "text": [
      "input a number:a\n"
     ]
    },
    {
     "ename": "ValueError",
     "evalue": "could not convert string to float: 'a'",
     "output_type": "error",
     "traceback": [
      "\u001b[1;31m---------------------------------------------------------------------------\u001b[0m",
      "\u001b[1;31mValueError\u001b[0m                                Traceback (most recent call last)",
      "\u001b[1;32m<ipython-input-15-0748a9a4b223>\u001b[0m in \u001b[0;36m<module>\u001b[1;34m\u001b[0m\n\u001b[0;32m      7\u001b[0m     \u001b[1;32mif\u001b[0m \u001b[0mn\u001b[0m \u001b[1;33m==\u001b[0m\u001b[1;34m'stop'\u001b[0m\u001b[1;33m:\u001b[0m\u001b[1;33m\u001b[0m\u001b[1;33m\u001b[0m\u001b[0m\n\u001b[0;32m      8\u001b[0m         \u001b[1;32mbreak\u001b[0m\u001b[1;33m\u001b[0m\u001b[1;33m\u001b[0m\u001b[0m\n\u001b[1;32m----> 9\u001b[1;33m     \u001b[0mn\u001b[0m \u001b[1;33m=\u001b[0m \u001b[0mfloat\u001b[0m\u001b[1;33m(\u001b[0m\u001b[0mn\u001b[0m\u001b[1;33m)\u001b[0m\u001b[1;33m\u001b[0m\u001b[1;33m\u001b[0m\u001b[0m\n\u001b[0m\u001b[0;32m     10\u001b[0m     \u001b[0mres\u001b[0m \u001b[1;33m=\u001b[0m\u001b[0mmath\u001b[0m\u001b[1;33m.\u001b[0m\u001b[0msqrt\u001b[0m\u001b[1;33m(\u001b[0m\u001b[0mn\u001b[0m\u001b[1;33m)\u001b[0m\u001b[1;33m\u001b[0m\u001b[1;33m\u001b[0m\u001b[0m\n\u001b[0;32m     11\u001b[0m     \u001b[0mprint\u001b[0m\u001b[1;33m(\u001b[0m\u001b[1;34m'the squre root of the input number is'\u001b[0m\u001b[1;33m,\u001b[0m \u001b[0mres\u001b[0m\u001b[1;33m)\u001b[0m\u001b[1;33m\u001b[0m\u001b[1;33m\u001b[0m\u001b[0m\n",
      "\u001b[1;31mValueError\u001b[0m: could not convert string to float: 'a'"
     ]
    }
   ],
   "source": [
    "# the code has a bug: input a string. \n",
    "# after class practice: if the user input something rather than a number or 'stop'\n",
    "# ask the user to reinput\n",
    "\n",
    "import math\n",
    "\n",
    "while True:\n",
    "    n = input('input a number:')\n",
    "    # if the user inputs 'stop', let the while loop end\n",
    "    if n =='stop':\n",
    "        break\n",
    "    n = float(n)\n",
    "    res =math.sqrt(n)\n",
    "    print('the squre root of the input number is', res) "
   ]
  },
  {
   "cell_type": "markdown",
   "metadata": {},
   "source": [
    "Calculate the sum of the numbers from 1 to 100 using the while/for loop"
   ]
  },
  {
   "cell_type": "code",
   "execution_count": 22,
   "metadata": {},
   "outputs": [
    {
     "name": "stdout",
     "output_type": "stream",
     "text": [
      "[1, 2, 3, 4, 5, 6, 7, 8, 9, 10, 11, 12, 13, 14, 15, 16, 17, 18, 19, 20, 21, 22, 23, 24, 25, 26, 27, 28, 29, 30, 31, 32, 33, 34, 35, 36, 37, 38, 39, 40, 41, 42, 43, 44, 45, 46, 47, 48, 49, 50, 51, 52, 53, 54, 55, 56, 57, 58, 59, 60, 61, 62, 63, 64, 65, 66, 67, 68, 69, 70, 71, 72, 73, 74, 75, 76, 77, 78, 79, 80, 81, 82, 83, 84, 85, 86, 87, 88, 89, 90, 91, 92, 93, 94, 95, 96, 97, 98, 99, 100]\n"
     ]
    },
    {
     "ename": "KeyboardInterrupt",
     "evalue": "",
     "output_type": "error",
     "traceback": [
      "\u001b[1;31m---------------------------------------------------------------------------\u001b[0m",
      "\u001b[1;31mKeyboardInterrupt\u001b[0m                         Traceback (most recent call last)",
      "\u001b[1;32m<ipython-input-22-94cf2af63618>\u001b[0m in \u001b[0;36m<module>\u001b[1;34m\u001b[0m\n\u001b[0;32m     13\u001b[0m \u001b[0mres\u001b[0m \u001b[1;33m=\u001b[0m \u001b[1;36m0\u001b[0m\u001b[1;33m\u001b[0m\u001b[1;33m\u001b[0m\u001b[0m\n\u001b[0;32m     14\u001b[0m \u001b[1;32mwhile\u001b[0m \u001b[0midx\u001b[0m \u001b[1;33m<\u001b[0m \u001b[1;36m100\u001b[0m\u001b[1;33m:\u001b[0m\u001b[1;33m\u001b[0m\u001b[1;33m\u001b[0m\u001b[0m\n\u001b[1;32m---> 15\u001b[1;33m     \u001b[0mres\u001b[0m \u001b[1;33m=\u001b[0m \u001b[0mres\u001b[0m \u001b[1;33m+\u001b[0m \u001b[0mL\u001b[0m\u001b[1;33m[\u001b[0m\u001b[0midx\u001b[0m\u001b[1;33m]\u001b[0m\u001b[1;33m\u001b[0m\u001b[1;33m\u001b[0m\u001b[0m\n\u001b[0m\u001b[0;32m     16\u001b[0m \u001b[0mprint\u001b[0m\u001b[1;33m(\u001b[0m\u001b[1;34m'the result is '\u001b[0m\u001b[1;33m,\u001b[0m \u001b[0mres\u001b[0m\u001b[1;33m)\u001b[0m\u001b[1;33m\u001b[0m\u001b[1;33m\u001b[0m\u001b[0m\n",
      "\u001b[1;31mKeyboardInterrupt\u001b[0m: "
     ]
    }
   ],
   "source": [
    "L = list(range(1, 101))\n",
    "print(L)\n",
    "\n",
    "# for loop\n",
    "res = 0\n",
    "for i in L:\n",
    "    res = res + i\n",
    "    \n",
    "#print('the result is ', res)\n",
    "\n",
    "# while loop\n",
    "idx = 0\n",
    "res = 0\n",
    "while idx < 100:\n",
    "    res = res + L[idx]\n",
    "print('the result is ', res)"
   ]
  },
  {
   "cell_type": "code",
   "execution_count": 20,
   "metadata": {},
   "outputs": [
    {
     "data": {
      "text/plain": [
       "100"
      ]
     },
     "execution_count": 20,
     "metadata": {},
     "output_type": "execute_result"
    }
   ],
   "source": [
    "i"
   ]
  },
  {
   "cell_type": "markdown",
   "metadata": {},
   "source": [
    "# Lecture 4: Functions and Modules\n",
    "\n",
    "Why do we need functions?\n",
    "\n",
    "    1. maximize code reuse and reduce redundancy. Functions are the simplest way to package logic we may want to use in more than one place and more than one time. \n",
    "    \n",
    "    2. procedural decomposition. Functions provide a tool for splitting systems into pieces that have well-defined roles. Take the implementation of a machine learning program for example, it includes the following subtasks:\n",
    "    \n",
    "        1. data loading\n",
    "        2. data preprocessing\n",
    "        3. feature extraction\n",
    "        4. training\n",
    "        5. test and evaluation\n",
    "        6. model persistance\n",
    "\n",
    "### Agenda:\n",
    "\n",
    "- [Functions](#section1)\n",
    "- [Modules and Packages](#section2)"
   ]
  },
  {
   "cell_type": "markdown",
   "metadata": {
    "slideshow": {
     "slide_type": "slide"
    }
   },
   "source": [
    "## Functions<a id='section1'>\n",
    "\n",
    "Python built-in functions and user-defined functions\n",
    "    \n",
    "    1. Python built-in functions: https://docs.python.org/3.9/library/functions.html#len \n",
    "    \n",
    "    2. User-defined functions\n",
    "        1. **def** statement creates an object and assign it a name\n",
    "        2. **return** sends a result object back to the caller\n",
    "        3. **global**: module level variable\n",
    "        4. **nonlocal**: function level\n",
    "    \n",
    "    3. Function arguments \n",
    "    \n",
    "    4. **lambda** creates an object (anonymous function) but return it  as a results"
   ]
  },
  {
   "cell_type": "markdown",
   "metadata": {},
   "source": [
    "### 2. Practice user-defined functions"
   ]
  },
  {
   "cell_type": "code",
   "execution_count": 24,
   "metadata": {},
   "outputs": [
    {
     "data": {
      "text/plain": [
       "6"
      ]
     },
     "execution_count": 24,
     "metadata": {},
     "output_type": "execute_result"
    }
   ],
   "source": [
    "#2 Practice user-defined functions\n",
    "#a function performs the multiplication\n",
    "\n",
    "def times(x, y):\n",
    "    '''this is the times function\n",
    "    \n",
    "        input:\n",
    "            x: first arg\n",
    "            y: second arg\n",
    "        return:\n",
    "            x*y\n",
    "    '''\n",
    "    return x*y\n",
    "\n",
    "times(3, 2)"
   ]
  },
  {
   "cell_type": "code",
   "execution_count": 25,
   "metadata": {},
   "outputs": [
    {
     "name": "stdout",
     "output_type": "stream",
     "text": [
      "Help on function times in module __main__:\n",
      "\n",
      "times(x, y)\n",
      "    this is the times function\n",
      "    \n",
      "    input:\n",
      "        x: first arg\n",
      "        y: second arg\n",
      "    return:\n",
      "        x*y\n",
      "\n"
     ]
    }
   ],
   "source": [
    "help(times)"
   ]
  },
  {
   "cell_type": "markdown",
   "metadata": {},
   "source": [
    "#### Function arguments"
   ]
  },
  {
   "cell_type": "code",
   "execution_count": 27,
   "metadata": {},
   "outputs": [
    {
     "name": "stdout",
     "output_type": "stream",
     "text": [
      "6\n",
      "3\n"
     ]
    }
   ],
   "source": [
    "# default arguments\n",
    "def times2(x, y = 1):\n",
    "    ''' y has a default value 1\n",
    "    '''\n",
    "    return x*y\n",
    "print(times2(3, 2))\n",
    "print(times2(3)) # y has the default value"
   ]
  },
  {
   "cell_type": "code",
   "execution_count": 28,
   "metadata": {},
   "outputs": [
    {
     "ename": "SyntaxError",
     "evalue": "non-default argument follows default argument (<ipython-input-28-7da17aabd032>, line 4)",
     "output_type": "error",
     "traceback": [
      "\u001b[1;36m  File \u001b[1;32m\"<ipython-input-28-7da17aabd032>\"\u001b[1;36m, line \u001b[1;32m4\u001b[0m\n\u001b[1;33m    def times3(x =1, y):\u001b[0m\n\u001b[1;37m               ^\u001b[0m\n\u001b[1;31mSyntaxError\u001b[0m\u001b[1;31m:\u001b[0m non-default argument follows default argument\n"
     ]
    }
   ],
   "source": [
    "# default argument position: default argument must \n",
    "# follow non-default arguments \n",
    "\n",
    "def times3(x =1, y):\n",
    "    return x*y\n",
    "\n",
    "times(3)\n"
   ]
  },
  {
   "cell_type": "markdown",
   "metadata": {},
   "source": [
    "#### Using keyword args to call a function"
   ]
  },
  {
   "cell_type": "code",
   "execution_count": 34,
   "metadata": {},
   "outputs": [
    {
     "name": "stdout",
     "output_type": "stream",
     "text": [
      "200\n",
      "8\n",
      "2000\n",
      "16\n",
      "16\n"
     ]
    },
    {
     "data": {
      "text/plain": [
       "300"
      ]
     },
     "execution_count": 34,
     "metadata": {},
     "output_type": "execute_result"
    }
   ],
   "source": [
    "def power(x, base =10,  y = 2):\n",
    "    return x*(base**y)\n",
    "\n",
    "# call function using positional args.\n",
    "print(power(2))# x=2\n",
    "print(power(2, 2))\n",
    "print(power(2, 10, 3))\n",
    "\n",
    "#call function using keyword args: kwarg = value\n",
    "print(power(x=2, base =2, y=3))\n",
    "print(power(base =2, x=2, y=3))\n",
    "#the order is not important\n",
    "power(y=2, x=3)"
   ]
  },
  {
   "cell_type": "code",
   "execution_count": 90,
   "metadata": {},
   "outputs": [
    {
     "ename": "SyntaxError",
     "evalue": "positional argument follows keyword argument (<ipython-input-90-4574272266b6>, line 2)",
     "output_type": "error",
     "traceback": [
      "\u001b[1;36m  File \u001b[1;32m\"<ipython-input-90-4574272266b6>\"\u001b[1;36m, line \u001b[1;32m2\u001b[0m\n\u001b[1;33m    power(y=2, 3)\u001b[0m\n\u001b[1;37m              ^\u001b[0m\n\u001b[1;31mSyntaxError\u001b[0m\u001b[1;31m:\u001b[0m positional argument follows keyword argument\n"
     ]
    }
   ],
   "source": [
    "# the order is not important, but...\n",
    "power() # need value for the required arg. x\n",
    "power(y=2, 3) # no positional args. after key args."
   ]
  },
  {
   "cell_type": "markdown",
   "metadata": {},
   "source": [
    "#### Functons with args.  \\*name, \\**name"
   ]
  },
  {
   "cell_type": "code",
   "execution_count": 109,
   "metadata": {},
   "outputs": [
    {
     "name": "stdout",
     "output_type": "stream",
     "text": [
      "x is 2.\n",
      "10 is in *args\n",
      "100 is in *args\n",
      "1000 is in *args\n",
      "2 is in **kwds\n",
      "3 is in **kwds\n",
      "4 is in **kwds\n",
      "x is 2.\n",
      "10 is in *args\n",
      "100 is in *args\n",
      "1000 is in *args\n",
      "2 is in **kwds\n",
      "3 is in **kwds\n",
      "4 is in **kwds\n"
     ]
    },
    {
     "data": {
      "text/plain": [
       "[200, 2000000, 2000000000000]"
      ]
     },
     "execution_count": 109,
     "metadata": {},
     "output_type": "execute_result"
    }
   ],
   "source": [
    "#functons with args. *name, **name\n",
    "# make the arg. list short\n",
    "def power(x, *args,  **kwds):\n",
    "    #*args receives a tuple containing positional args.: (t1, t2, t3, ...)\n",
    "    #**kwds recieves a dictionary containing all keyword args.: {k1: v1, k2: v2, ...}\n",
    "    res = []\n",
    "    print('x is {}.'.format(x))\n",
    "    for t in args:\n",
    "        print('{} is in *args'.format(t))\n",
    "    i = 0\n",
    "    for d in kwds:\n",
    "        print('{} is in **kwds'.format(kwds[d]))\n",
    "        res.append(x * args[i]**kwds[d])\n",
    "        i += 1\n",
    "    return res\n",
    "\n",
    "power(2, 10, 100, 1000, p1=2, p2=3, p3=4)\n",
    "\n",
    "base = (10, 100, 1000)\n",
    "powers = {'p1':2, 'p2':3, 'p3':4}\n",
    "power(2, *base, **powers)"
   ]
  },
  {
   "cell_type": "code",
   "execution_count": 46,
   "metadata": {},
   "outputs": [
    {
     "name": "stdout",
     "output_type": "stream",
     "text": [
      "<class 'tuple'>\n",
      "1 is in args.\n",
      "2 is in args.\n",
      "4 is in args.\n",
      "8 is in args.\n",
      "16 is in args.\n"
     ]
    }
   ],
   "source": [
    "# arbitray argument list\n",
    "def ablist(*args):\n",
    "    print(type(args))\n",
    "    for t in args:\n",
    "        print('{} is in args.'.format(t))\n",
    "\n",
    "ablist(1, 2, 4, 8, 16)"
   ]
  },
  {
   "cell_type": "markdown",
   "metadata": {},
   "source": [
    "### 4: lambda: small anonymous in-line functions "
   ]
  },
  {
   "cell_type": "code",
   "execution_count": 94,
   "metadata": {},
   "outputs": [
    {
     "data": {
      "text/plain": [
       "5"
      ]
     },
     "execution_count": 94,
     "metadata": {},
     "output_type": "execute_result"
    }
   ],
   "source": [
    "#4: lambda: small anonymous in-line functions \n",
    "# format: lambda parameters: expression. It behaves like\n",
    "# def <lambda>(parameters): expression\n",
    "\n",
    "add  = lambda a, b: a+b\n",
    "add(3, 2)"
   ]
  },
  {
   "cell_type": "markdown",
   "metadata": {},
   "source": [
    "## Modules and Packages<a id='section2'>\n",
    "1. A module is a file containing Python definitions and statements. The file name is the module name with the suffix .py appended, e.g.,math.py.\n",
    "2. A package are a collections of modules. Refer to Section 6.4.\n",
    "3. Python standard modules: https://docs.python.org/3.9/py-modindex.html   "
   ]
  },
  {
   "cell_type": "code",
   "execution_count": 4,
   "metadata": {
    "collapsed": true,
    "scrolled": true
   },
   "outputs": [],
   "source": [
    "import math\n",
    "#dir(math) # all attributes in math module"
   ]
  },
  {
   "cell_type": "markdown",
   "metadata": {},
   "source": [
    "#### Built-in functions and Modules\n",
    "1. Python built-in functions: https://docs.python.org/3.6/library/functions.html#len\n",
    "2. Python standard modules: https://docs.python.org/3.6/py-modindex.html \n",
    "    . A module is a file containing Python definitions and statements. The file name is the module name with the suffix .py appended"
   ]
  },
  {
   "cell_type": "code",
   "execution_count": 116,
   "metadata": {
    "scrolled": true
   },
   "outputs": [
    {
     "name": "stdout",
     "output_type": "stream",
     "text": [
      "Help on built-in function acos in module math:\n",
      "\n",
      "acos(...)\n",
      "    acos(x)\n",
      "    \n",
      "    Return the arc cosine (measured in radians) of x.\n",
      "\n"
     ]
    }
   ],
   "source": [
    "import math\n",
    "dir(math)\n",
    "help(math.acos)"
   ]
  },
  {
   "cell_type": "code",
   "execution_count": null,
   "metadata": {
    "collapsed": true
   },
   "outputs": [],
   "source": []
  }
 ],
 "metadata": {
  "kernelspec": {
   "display_name": "Python 3",
   "language": "python",
   "name": "python3"
  },
  "language_info": {
   "codemirror_mode": {
    "name": "ipython",
    "version": 3
   },
   "file_extension": ".py",
   "mimetype": "text/x-python",
   "name": "python",
   "nbconvert_exporter": "python",
   "pygments_lexer": "ipython3",
   "version": "3.8.8"
  }
 },
 "nbformat": 4,
 "nbformat_minor": 2
}
